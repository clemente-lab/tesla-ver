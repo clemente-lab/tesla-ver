{
 "cells": [
  {
   "cell_type": "code",
   "execution_count": 436,
   "metadata": {},
   "outputs": [
    {
     "data": {
      "text/html": [
       "        <script type=\"text/javascript\">\n",
       "        window.PlotlyConfig = {MathJaxConfig: 'local'};\n",
       "        if (window.MathJax) {MathJax.Hub.Config({SVG: {font: \"STIX-Web\"}});}\n",
       "        if (typeof require !== 'undefined') {\n",
       "        require.undef(\"plotly\");\n",
       "        requirejs.config({\n",
       "            paths: {\n",
       "                'plotly': ['https://cdn.plot.ly/plotly-latest.min']\n",
       "            }\n",
       "        });\n",
       "        require(['plotly'], function(Plotly) {\n",
       "            window._Plotly = Plotly;\n",
       "        });\n",
       "        }\n",
       "        </script>\n",
       "        "
      ]
     },
     "metadata": {},
     "output_type": "display_data"
    },
    {
     "name": "stdout",
     "output_type": "stream",
     "text": [
      "nan\n",
      "2002/03\n",
      "Afghan afghani\n",
      "Value added at basic prices (VAB)\n",
      "Low income\n",
      "2\n",
      "Integrated household survey (IHS), 2011\n",
      "Islamic State of Afghanistan\n",
      "HIPC\n",
      "Actual\n",
      "nan\n",
      "Demographic and Health Survey, 2015\n",
      "nan\n",
      "Afghanistan\n",
      "IDA\n",
      "Enhanced General Data Dissemination System (e-GDDS)\n",
      "General trade system\n",
      "AF\n",
      "BPM6\n",
      "Fiscal year end: March 20; reporting period for national accounts data is calendar year, estimated to insure consistency between national accounts and fiscal data. National accounts data are sourced from the IMF and differ from the Central Statistics Organization numbers due to exclusion of the opium economy.\n",
      "South Asia\n",
      "Birth rate, crude (per 1,000 people)\n",
      "0\n",
      "1979\n",
      "nan\n",
      "2016.0\n",
      "AFG\n",
      "nan\n",
      "Country uses the 1993 System of National Accounts methodology\n",
      "AF\n",
      "Low income\n",
      "Afghanistan\n",
      "0\n",
      "SP.DYN.CBRT.IN\n",
      "nan\n",
      "2000.0\n",
      "Consolidated central government\n",
      "1996.0\n",
      "Original chained constant price data are rescaled.\n",
      "Albanian lek\n",
      "Value added at basic prices (VAB)\n",
      "Upper middle income\n",
      "0\n",
      "Living Standards Measurement Study Survey (LSMS), 2012\n",
      "Republic of Albania\n",
      "nan\n",
      "Actual\n",
      "nan\n",
      "Demographic and Health Survey, 2008/09\n",
      "2012\n",
      "Albania\n",
      "IBRD\n",
      "Enhanced General Data Dissemination System (e-GDDS)\n",
      "Special trade system\n",
      "AL\n",
      "BPM6\n",
      "nan\n",
      "Europe & Central Asia\n",
      "Birth rate, crude (per 1,000 people)\n",
      "1\n",
      "2011\n",
      "Yes\n",
      "2016.0\n",
      "ALB\n",
      "2013.0\n",
      "Country uses the 2008 System of National Accounts methodology\n",
      "AL\n",
      "Upper middle income\n",
      "Albania\n",
      "1\n",
      "SP.DYN.CBRT.IN\n",
      "Rolling\n",
      "2006.0\n",
      "Consolidated central government\n",
      "nan\n",
      "1999\n",
      "Algerian dinar\n",
      "Value added at basic prices (VAB)\n",
      "Upper middle income\n",
      "0\n",
      "Integrated household survey (IHS), 2011\n",
      "People's Democratic Republic of Algeria\n",
      "nan\n",
      "Actual\n",
      "nan\n",
      "Multiple Indicator Cluster Survey, 2012/13\n",
      "nan\n",
      "Algeria\n",
      "IBRD\n",
      "Enhanced General Data Dissemination System (e-GDDS)\n",
      "Special trade system\n",
      "DZ\n",
      "BPM6\n",
      "The new base year is 1999.\n",
      "Middle East & North Africa\n",
      "Birth rate, crude (per 1,000 people)\n",
      "1\n",
      "2008\n",
      "nan\n",
      "2016.0\n",
      "DZA\n",
      "2010.0\n",
      "Country uses the 1993 System of National Accounts methodology\n",
      "DZ\n",
      "Upper middle income\n",
      "Algeria\n",
      "1\n",
      "SP.DYN.CBRT.IN\n",
      "2011\n",
      "2012.0\n",
      "Consolidated central government\n",
      "nan\n",
      "2000\n",
      "Euro\n",
      "Value added at basic prices (VAB)\n",
      "High income\n",
      "1\n",
      "nan\n",
      "Principality of Andorra\n",
      "nan\n",
      "nan\n",
      "nan\n",
      "nan\n",
      "nan\n",
      "Andorra\n",
      "nan\n",
      "nan\n",
      "General trade system\n",
      "AD\n",
      "nan\n",
      "WB-3 code changed from ADO to AND to align with ISO code.\n",
      "Europe & Central Asia\n",
      "Birth rate, crude (per 1,000 people)\n",
      "2\n",
      "2011. Population data compiled from administrative registers.\n",
      "Yes\n",
      "nan\n",
      "AND\n",
      "nan\n",
      "Country uses the 1993 System of National Accounts methodology\n",
      "AD\n",
      "High income\n",
      "Andorra\n",
      "2\n",
      "SP.DYN.CBRT.IN\n",
      "nan\n",
      "nan\n",
      "nan\n"
     ]
    },
    {
     "name": "stderr",
     "output_type": "stream",
     "text": [
      "...reading data\n",
      "...reading data\n"
     ]
    }
   ],
   "source": [
    "#Data Manipulation and Trajectory Parsing Libraries\n",
    "import plotly.plotly as py\n",
    "import pandas as pd\n",
    "import numpy as np\n",
    "from loclust import parse\n",
    "from teslaver import utilities as utls\n",
    "\n",
    "#plotly graphing libraries\n",
    "from plotly.offline import download_plotlyjs, init_notebook_mode, iplot\n",
    "from plotly.graph_objs import *\n",
    "from plotly.grid_objs import Grid, Column\n",
    "from plotly import figure_factory as FF\n",
    "\n",
    "#Defines offline plotly graphing as the designated mode\n",
    "init_notebook_mode()\n",
    "\n",
    "#Created Dataframe from loclust trajectories\n",
    "parsed_dataframe = utls.trajectories_to_dataframe(parse.read_trajectories('../data/WB_birth_rate_raw_clustered_short.csv'))\n",
    "years = [traj.time for traj in parse.read_trajectories('../data/WB_birth_rate_raw_clustered_short.csv')]\n",
    "\n",
    "figure = {\n",
    "        'data': [],\n",
    "        'layout': {},\n",
    "        'frames': [],   \n",
    "    }\n",
    "\n",
    "# defined layout for axes and hovering\n",
    "figure['layout']['xaxis'] = {'title': 'Year', 'range':[1960,2015], 'gridcolor': '#FFFFFF'}\n",
    "figure['layout']['yaxis'] = {'title': 'Births Per One Thousand People Per Year', 'range':[0,100],'gridcolor': '#FFFFFF'}\n",
    "figure['layout']['hovermode'] = 'closest'\n",
    "figure['layout']['showlegend'] = True\n",
    "figure['layout']['plot_bgcolor'] = 'rgb(223, 232, 243)'\n"
   ]
  },
  {
   "cell_type": "code",
   "execution_count": 437,
   "metadata": {},
   "outputs": [],
   "source": [
    "figure['layout']['sliders'] = {\n",
    "    'active': 0,\n",
    "    'yanchor': 'top',\n",
    "    'xanchor': 'left',\n",
    "    'currentvalue': {\n",
    "        'font': {'size': 20},\n",
    "        'prefix': 'text-before-value-on-display',\n",
    "        'visible': True,\n",
    "        'xanchor': 'right'\n",
    "    },\n",
    "    'transition': {'duration': 300, 'easing': 'cubic-in-out'},\n",
    "    'pad': {'b': 10, 't': 50},\n",
    "    'len': 0.9,\n",
    "    'x': 0.1,\n",
    "    'y': 0,\n",
    "    # the following might be deprecated in plotly offline mode\n",
    "#     'plotlycommand': 'animate',\n",
    "#     'values': years,\n",
    "    'steps': []\n",
    "}\n",
    "\n",
    "sliders_dict = {\n",
    "    'active': 0,\n",
    "    'yanchor': 'top',\n",
    "    'xanchor': 'left',\n",
    "    'currentvalue': {\n",
    "        'font': {'size': 20},\n",
    "        'prefix': 'Year:',\n",
    "        'visible': True,\n",
    "        'xanchor': 'right'\n",
    "    },\n",
    "    'transition': {'duration': 300, 'easing': 'cubic-in-out'},\n",
    "    'pad': {'b': 10, 't': 50},\n",
    "    'len': 0.9,\n",
    "    'x': 0.1,\n",
    "    'y': 0,\n",
    "    # the following might be deprecated in plotly offline mode\n",
    "#     'plotlycommand': 'animate',\n",
    "#     'values': years,\n",
    "    'steps': []\n",
    "}\n",
    "\n",
    "#described figure buttons and menus\n",
    "figure['layout']['updatemenus'] = [\n",
    "    {\n",
    "        'buttons': [\n",
    "            {\n",
    "                'args': [None, {'frame': {'duration': 500, 'redraw': False},\n",
    "                         'fromcurrent': True, 'transition': {'duration': 300, 'easing': 'quadratic-in-out'}}],\n",
    "                'label': 'Play',\n",
    "                'method': 'animate'\n",
    "            },\n",
    "            {\n",
    "                'args': [[None], {'frame': {'duration': 0, 'redraw': False}, 'mode': 'immediate',\n",
    "                'transition': {'duration': 0}}],\n",
    "                'label': 'Pause',\n",
    "                'method': 'animate'\n",
    "            }\n",
    "        ],\n",
    "        'direction': 'left',\n",
    "        'pad': {'r': 10, 't': 87},\n",
    "        'showactive': False,\n",
    "        'type': 'buttons',\n",
    "        'x': 0.1,\n",
    "        'xanchor': 'right',\n",
    "        'y': 0,\n",
    "        'yanchor': 'top'\n",
    "    }\n",
    "]\n"
   ]
  },
  {
   "cell_type": "code",
   "execution_count": 438,
   "metadata": {},
   "outputs": [],
   "source": [
    "#groups dataframe by year\n",
    "grouped_df = parsed_dataframe.groupby('Short Name')\n"
   ]
  },
  {
   "cell_type": "code",
   "execution_count": 439,
   "metadata": {},
   "outputs": [
    {
     "name": "stdout",
     "output_type": "stream",
     "text": [
      "{'name': 'Andorra', 'text': 'Andorra', 'marker': {'sizemode': 'area', 'sizeref': 200000, 'size': 10}, 'mode': 'lines+markers', 'y': [11.9], 'x': [1986.0]}\n",
      "{'name': 'Afghanistan', 'text': 'Afghanistan', 'marker': {'sizemode': 'area', 'sizeref': 200000, 'size': 10}, 'mode': 'lines+markers', 'y': [51.293], 'x': [1960.0]}\n",
      "{'name': 'Albania', 'text': 'Albania', 'marker': {'sizemode': 'area', 'sizeref': 200000, 'size': 10}, 'mode': 'lines+markers', 'y': [40.925], 'x': [1960.0]}\n",
      "{'name': 'Algeria', 'text': 'Algeria', 'marker': {'sizemode': 'area', 'sizeref': 200000, 'size': 10}, 'mode': 'lines+markers', 'y': [49.671], 'x': [1960.0]}\n"
     ]
    }
   ],
   "source": [
    "#iterates through each year for all countries and appends a data dictionary to the figure\n",
    "#need to add every row to this\n",
    "for country in grouped_df.groups.keys():\n",
    "    for index, row in grouped_df.get_group(country).iterrows():\n",
    "        #all values must be lists\n",
    "        if index == 0:\n",
    "            datadict = {\n",
    "                'x': [row['X']],\n",
    "                'y' : [row['Y']],\n",
    "                'mode':'lines+markers',\n",
    "                'text': row['Short Name'],\n",
    "                'marker': {\n",
    "                    'sizemode': 'area',\n",
    "                    'sizeref': 200000,\n",
    "                    'size': 10\n",
    "                },\n",
    "                'name':row['Short Name']\n",
    "            }\n",
    "            figure['data'].append(datadict)\n",
    "            print(datadict)\n"
   ]
  },
  {
   "cell_type": "code",
   "execution_count": 440,
   "metadata": {},
   "outputs": [],
   "source": [
    "#groups dataframe by year\n",
    "grouped_df_2 = parsed_dataframe.groupby('X')"
   ]
  },
  {
   "cell_type": "code",
   "execution_count": 441,
   "metadata": {},
   "outputs": [],
   "source": [
    "#iterates through all X values present (years in this case)\n",
    "for year in grouped_df_2.groups.keys():\n",
    "# for year in years:\n",
    "    \n",
    "    #defines structure for each frame\n",
    "    frame = {'data': [], 'name': str(year)}\n",
    "    #iterates through each country for each year and creates a datadict\n",
    "    for index, row in grouped_df_2.get_group(year).iterrows():\n",
    "        datadict = {\n",
    "            'x' : [year],\n",
    "            'y' : [row['Y']],\n",
    "            'mode': 'lines+markers',\n",
    "            'text': row['Short Name'],\n",
    "            'marker': {\n",
    "                'sizemode': 'area',\n",
    "                'sizeref': 200000,\n",
    "                'size': 10\n",
    "            },\n",
    "            'name':row['Short Name']\n",
    "        }\n",
    "        #Appends each datadict to the figure as a frame\n",
    "        frame['data'].append(datadict)\n",
    "        \n",
    "    #Appends all frames to figure\n",
    "    figure['frames'].append(frame)\n",
    "    \n",
    "    #Defines what should change for each frame, and by how much\n",
    "    slider_step = {'args': [\n",
    "        [year],\n",
    "        {'frame': {'duration': 500, 'redraw': False},\n",
    "         'mode': 'immediate',\n",
    "       'transition': {'duration': 300}}\n",
    "     ],\n",
    "     'label': year,\n",
    "     'method': 'animate'}\n",
    "    sliders_dict['steps'].append(slider_step)\n",
    "    \n",
    "#defines how the sliders function in the figure\n",
    "figure['layout']['sliders'] = [sliders_dict]"
   ]
  },
  {
   "cell_type": "code",
   "execution_count": 442,
   "metadata": {},
   "outputs": [
    {
     "data": {
      "application/vnd.plotly.v1+json": {
       "config": {
        "linkText": "Export to plot.ly",
        "plotlyServerURL": "https://plot.ly",
        "showLink": "BirthRateGraph"
       },
       "data": [
        {
         "marker": {
          "size": 10,
          "sizemode": "area",
          "sizeref": 200000
         },
         "mode": "lines+markers",
         "name": "Andorra",
         "text": "Andorra",
         "type": "scatter",
         "uid": "fb2ad571-41e4-4506-a45f-053b54d203e8",
         "x": [
          1986
         ],
         "y": [
          11.9
         ]
        },
        {
         "marker": {
          "size": 10,
          "sizemode": "area",
          "sizeref": 200000
         },
         "mode": "lines+markers",
         "name": "Afghanistan",
         "text": "Afghanistan",
         "type": "scatter",
         "uid": "c22aeb6d-588d-4355-85c9-c3962e8a91ed",
         "x": [
          1960
         ],
         "y": [
          51.293
         ]
        },
        {
         "marker": {
          "size": 10,
          "sizemode": "area",
          "sizeref": 200000
         },
         "mode": "lines+markers",
         "name": "Albania",
         "text": "Albania",
         "type": "scatter",
         "uid": "1f34a8a4-9a0d-43bf-9847-4ce1c85a886e",
         "x": [
          1960
         ],
         "y": [
          40.925
         ]
        },
        {
         "marker": {
          "size": 10,
          "sizemode": "area",
          "sizeref": 200000
         },
         "mode": "lines+markers",
         "name": "Algeria",
         "text": "Algeria",
         "type": "scatter",
         "uid": "d6db6473-f3b7-4479-85d3-03c3e081424e",
         "x": [
          1960
         ],
         "y": [
          49.671
         ]
        }
       ],
       "frames": [
        {
         "data": [
          {
           "marker": {
            "size": 10,
            "sizemode": "area",
            "sizeref": 200000
           },
           "mode": "lines+markers",
           "name": "Afghanistan",
           "text": "Afghanistan",
           "type": "scatter",
           "x": [
            1960
           ],
           "y": [
            51.293
           ]
          },
          {
           "marker": {
            "size": 10,
            "sizemode": "area",
            "sizeref": 200000
           },
           "mode": "lines+markers",
           "name": "Albania",
           "text": "Albania",
           "type": "scatter",
           "x": [
            1960
           ],
           "y": [
            40.925
           ]
          },
          {
           "marker": {
            "size": 10,
            "sizemode": "area",
            "sizeref": 200000
           },
           "mode": "lines+markers",
           "name": "Algeria",
           "text": "Algeria",
           "type": "scatter",
           "x": [
            1960
           ],
           "y": [
            49.671
           ]
          }
         ],
         "name": "1960.0"
        },
        {
         "data": [
          {
           "marker": {
            "size": 10,
            "sizemode": "area",
            "sizeref": 200000
           },
           "mode": "lines+markers",
           "name": "Afghanistan",
           "text": "Afghanistan",
           "type": "scatter",
           "x": [
            1961
           ],
           "y": [
            51.395
           ]
          },
          {
           "marker": {
            "size": 10,
            "sizemode": "area",
            "sizeref": 200000
           },
           "mode": "lines+markers",
           "name": "Albania",
           "text": "Albania",
           "type": "scatter",
           "x": [
            1961
           ],
           "y": [
            40.369
           ]
          },
          {
           "marker": {
            "size": 10,
            "sizemode": "area",
            "sizeref": 200000
           },
           "mode": "lines+markers",
           "name": "Algeria",
           "text": "Algeria",
           "type": "scatter",
           "x": [
            1961
           ],
           "y": [
            49.576
           ]
          }
         ],
         "name": "1961.0"
        },
        {
         "data": [
          {
           "marker": {
            "size": 10,
            "sizemode": "area",
            "sizeref": 200000
           },
           "mode": "lines+markers",
           "name": "Afghanistan",
           "text": "Afghanistan",
           "type": "scatter",
           "x": [
            1962
           ],
           "y": [
            51.488
           ]
          },
          {
           "marker": {
            "size": 10,
            "sizemode": "area",
            "sizeref": 200000
           },
           "mode": "lines+markers",
           "name": "Albania",
           "text": "Albania",
           "type": "scatter",
           "x": [
            1962
           ],
           "y": [
            39.628
           ]
          },
          {
           "marker": {
            "size": 10,
            "sizemode": "area",
            "sizeref": 200000
           },
           "mode": "lines+markers",
           "name": "Algeria",
           "text": "Algeria",
           "type": "scatter",
           "x": [
            1962
           ],
           "y": [
            49.416
           ]
          }
         ],
         "name": "1962.0"
        },
        {
         "data": [
          {
           "marker": {
            "size": 10,
            "sizemode": "area",
            "sizeref": 200000
           },
           "mode": "lines+markers",
           "name": "Afghanistan",
           "text": "Afghanistan",
           "type": "scatter",
           "x": [
            1963
           ],
           "y": [
            51.572
           ]
          },
          {
           "marker": {
            "size": 10,
            "sizemode": "area",
            "sizeref": 200000
           },
           "mode": "lines+markers",
           "name": "Albania",
           "text": "Albania",
           "type": "scatter",
           "x": [
            1963
           ],
           "y": [
            38.724
           ]
          },
          {
           "marker": {
            "size": 10,
            "sizemode": "area",
            "sizeref": 200000
           },
           "mode": "lines+markers",
           "name": "Algeria",
           "text": "Algeria",
           "type": "scatter",
           "x": [
            1963
           ],
           "y": [
            49.181
           ]
          }
         ],
         "name": "1963.0"
        },
        {
         "data": [
          {
           "marker": {
            "size": 10,
            "sizemode": "area",
            "sizeref": 200000
           },
           "mode": "lines+markers",
           "name": "Afghanistan",
           "text": "Afghanistan",
           "type": "scatter",
           "x": [
            1964
           ],
           "y": [
            51.644
           ]
          },
          {
           "marker": {
            "size": 10,
            "sizemode": "area",
            "sizeref": 200000
           },
           "mode": "lines+markers",
           "name": "Albania",
           "text": "Albania",
           "type": "scatter",
           "x": [
            1964
           ],
           "y": [
            37.696
           ]
          },
          {
           "marker": {
            "size": 10,
            "sizemode": "area",
            "sizeref": 200000
           },
           "mode": "lines+markers",
           "name": "Algeria",
           "text": "Algeria",
           "type": "scatter",
           "x": [
            1964
           ],
           "y": [
            48.877
           ]
          }
         ],
         "name": "1964.0"
        },
        {
         "data": [
          {
           "marker": {
            "size": 10,
            "sizemode": "area",
            "sizeref": 200000
           },
           "mode": "lines+markers",
           "name": "Afghanistan",
           "text": "Afghanistan",
           "type": "scatter",
           "x": [
            1965
           ],
           "y": [
            51.7
           ]
          },
          {
           "marker": {
            "size": 10,
            "sizemode": "area",
            "sizeref": 200000
           },
           "mode": "lines+markers",
           "name": "Albania",
           "text": "Albania",
           "type": "scatter",
           "x": [
            1965
           ],
           "y": [
            36.599
           ]
          },
          {
           "marker": {
            "size": 10,
            "sizemode": "area",
            "sizeref": 200000
           },
           "mode": "lines+markers",
           "name": "Algeria",
           "text": "Algeria",
           "type": "scatter",
           "x": [
            1965
           ],
           "y": [
            48.524
           ]
          }
         ],
         "name": "1965.0"
        },
        {
         "data": [
          {
           "marker": {
            "size": 10,
            "sizemode": "area",
            "sizeref": 200000
           },
           "mode": "lines+markers",
           "name": "Afghanistan",
           "text": "Afghanistan",
           "type": "scatter",
           "x": [
            1966
           ],
           "y": [
            51.736
           ]
          },
          {
           "marker": {
            "size": 10,
            "sizemode": "area",
            "sizeref": 200000
           },
           "mode": "lines+markers",
           "name": "Albania",
           "text": "Albania",
           "type": "scatter",
           "x": [
            1966
           ],
           "y": [
            35.494
           ]
          },
          {
           "marker": {
            "size": 10,
            "sizemode": "area",
            "sizeref": 200000
           },
           "mode": "lines+markers",
           "name": "Algeria",
           "text": "Algeria",
           "type": "scatter",
           "x": [
            1966
           ],
           "y": [
            48.155
           ]
          }
         ],
         "name": "1966.0"
        },
        {
         "data": [
          {
           "marker": {
            "size": 10,
            "sizemode": "area",
            "sizeref": 200000
           },
           "mode": "lines+markers",
           "name": "Afghanistan",
           "text": "Afghanistan",
           "type": "scatter",
           "x": [
            1967
           ],
           "y": [
            51.749
           ]
          },
          {
           "marker": {
            "size": 10,
            "sizemode": "area",
            "sizeref": 200000
           },
           "mode": "lines+markers",
           "name": "Albania",
           "text": "Albania",
           "type": "scatter",
           "x": [
            1967
           ],
           "y": [
            34.431
           ]
          },
          {
           "marker": {
            "size": 10,
            "sizemode": "area",
            "sizeref": 200000
           },
           "mode": "lines+markers",
           "name": "Algeria",
           "text": "Algeria",
           "type": "scatter",
           "x": [
            1967
           ],
           "y": [
            47.804
           ]
          }
         ],
         "name": "1967.0"
        },
        {
         "data": [
          {
           "marker": {
            "size": 10,
            "sizemode": "area",
            "sizeref": 200000
           },
           "mode": "lines+markers",
           "name": "Afghanistan",
           "text": "Afghanistan",
           "type": "scatter",
           "x": [
            1968
           ],
           "y": [
            51.738
           ]
          },
          {
           "marker": {
            "size": 10,
            "sizemode": "area",
            "sizeref": 200000
           },
           "mode": "lines+markers",
           "name": "Albania",
           "text": "Albania",
           "type": "scatter",
           "x": [
            1968
           ],
           "y": [
            33.451
           ]
          },
          {
           "marker": {
            "size": 10,
            "sizemode": "area",
            "sizeref": 200000
           },
           "mode": "lines+markers",
           "name": "Algeria",
           "text": "Algeria",
           "type": "scatter",
           "x": [
            1968
           ],
           "y": [
            47.494
           ]
          }
         ],
         "name": "1968.0"
        },
        {
         "data": [
          {
           "marker": {
            "size": 10,
            "sizemode": "area",
            "sizeref": 200000
           },
           "mode": "lines+markers",
           "name": "Afghanistan",
           "text": "Afghanistan",
           "type": "scatter",
           "x": [
            1969
           ],
           "y": [
            51.704
           ]
          },
          {
           "marker": {
            "size": 10,
            "sizemode": "area",
            "sizeref": 200000
           },
           "mode": "lines+markers",
           "name": "Albania",
           "text": "Albania",
           "type": "scatter",
           "x": [
            1969
           ],
           "y": [
            32.579
           ]
          },
          {
           "marker": {
            "size": 10,
            "sizemode": "area",
            "sizeref": 200000
           },
           "mode": "lines+markers",
           "name": "Algeria",
           "text": "Algeria",
           "type": "scatter",
           "x": [
            1969
           ],
           "y": [
            47.232
           ]
          }
         ],
         "name": "1969.0"
        },
        {
         "data": [
          {
           "marker": {
            "size": 10,
            "sizemode": "area",
            "sizeref": 200000
           },
           "mode": "lines+markers",
           "name": "Afghanistan",
           "text": "Afghanistan",
           "type": "scatter",
           "x": [
            1970
           ],
           "y": [
            51.648
           ]
          },
          {
           "marker": {
            "size": 10,
            "sizemode": "area",
            "sizeref": 200000
           },
           "mode": "lines+markers",
           "name": "Albania",
           "text": "Albania",
           "type": "scatter",
           "x": [
            1970
           ],
           "y": [
            31.821
           ]
          },
          {
           "marker": {
            "size": 10,
            "sizemode": "area",
            "sizeref": 200000
           },
           "mode": "lines+markers",
           "name": "Algeria",
           "text": "Algeria",
           "type": "scatter",
           "x": [
            1970
           ],
           "y": [
            47.021
           ]
          }
         ],
         "name": "1970.0"
        },
        {
         "data": [
          {
           "marker": {
            "size": 10,
            "sizemode": "area",
            "sizeref": 200000
           },
           "mode": "lines+markers",
           "name": "Afghanistan",
           "text": "Afghanistan",
           "type": "scatter",
           "x": [
            1971
           ],
           "y": [
            51.57
           ]
          },
          {
           "marker": {
            "size": 10,
            "sizemode": "area",
            "sizeref": 200000
           },
           "mode": "lines+markers",
           "name": "Albania",
           "text": "Albania",
           "type": "scatter",
           "x": [
            1971
           ],
           "y": [
            31.161
           ]
          },
          {
           "marker": {
            "size": 10,
            "sizemode": "area",
            "sizeref": 200000
           },
           "mode": "lines+markers",
           "name": "Algeria",
           "text": "Algeria",
           "type": "scatter",
           "x": [
            1971
           ],
           "y": [
            46.853
           ]
          }
         ],
         "name": "1971.0"
        },
        {
         "data": [
          {
           "marker": {
            "size": 10,
            "sizemode": "area",
            "sizeref": 200000
           },
           "mode": "lines+markers",
           "name": "Afghanistan",
           "text": "Afghanistan",
           "type": "scatter",
           "x": [
            1972
           ],
           "y": [
            51.476
           ]
          },
          {
           "marker": {
            "size": 10,
            "sizemode": "area",
            "sizeref": 200000
           },
           "mode": "lines+markers",
           "name": "Albania",
           "text": "Albania",
           "type": "scatter",
           "x": [
            1972
           ],
           "y": [
            30.558
           ]
          },
          {
           "marker": {
            "size": 10,
            "sizemode": "area",
            "sizeref": 200000
           },
           "mode": "lines+markers",
           "name": "Algeria",
           "text": "Algeria",
           "type": "scatter",
           "x": [
            1972
           ],
           "y": [
            46.7
           ]
          }
         ],
         "name": "1972.0"
        },
        {
         "data": [
          {
           "marker": {
            "size": 10,
            "sizemode": "area",
            "sizeref": 200000
           },
           "mode": "lines+markers",
           "name": "Afghanistan",
           "text": "Afghanistan",
           "type": "scatter",
           "x": [
            1973
           ],
           "y": [
            51.371
           ]
          },
          {
           "marker": {
            "size": 10,
            "sizemode": "area",
            "sizeref": 200000
           },
           "mode": "lines+markers",
           "name": "Albania",
           "text": "Albania",
           "type": "scatter",
           "x": [
            1973
           ],
           "y": [
            29.983
           ]
          },
          {
           "marker": {
            "size": 10,
            "sizemode": "area",
            "sizeref": 200000
           },
           "mode": "lines+markers",
           "name": "Algeria",
           "text": "Algeria",
           "type": "scatter",
           "x": [
            1973
           ],
           "y": [
            46.532
           ]
          }
         ],
         "name": "1973.0"
        },
        {
         "data": [
          {
           "marker": {
            "size": 10,
            "sizemode": "area",
            "sizeref": 200000
           },
           "mode": "lines+markers",
           "name": "Afghanistan",
           "text": "Afghanistan",
           "type": "scatter",
           "x": [
            1974
           ],
           "y": [
            51.258
           ]
          },
          {
           "marker": {
            "size": 10,
            "sizemode": "area",
            "sizeref": 200000
           },
           "mode": "lines+markers",
           "name": "Albania",
           "text": "Albania",
           "type": "scatter",
           "x": [
            1974
           ],
           "y": [
            29.43
           ]
          },
          {
           "marker": {
            "size": 10,
            "sizemode": "area",
            "sizeref": 200000
           },
           "mode": "lines+markers",
           "name": "Algeria",
           "text": "Algeria",
           "type": "scatter",
           "x": [
            1974
           ],
           "y": [
            46.325
           ]
          }
         ],
         "name": "1974.0"
        },
        {
         "data": [
          {
           "marker": {
            "size": 10,
            "sizemode": "area",
            "sizeref": 200000
           },
           "mode": "lines+markers",
           "name": "Afghanistan",
           "text": "Afghanistan",
           "type": "scatter",
           "x": [
            1975
           ],
           "y": [
            51.143
           ]
          },
          {
           "marker": {
            "size": 10,
            "sizemode": "area",
            "sizeref": 200000
           },
           "mode": "lines+markers",
           "name": "Albania",
           "text": "Albania",
           "type": "scatter",
           "x": [
            1975
           ],
           "y": [
            28.898
           ]
          },
          {
           "marker": {
            "size": 10,
            "sizemode": "area",
            "sizeref": 200000
           },
           "mode": "lines+markers",
           "name": "Algeria",
           "text": "Algeria",
           "type": "scatter",
           "x": [
            1975
           ],
           "y": [
            46.052
           ]
          }
         ],
         "name": "1975.0"
        },
        {
         "data": [
          {
           "marker": {
            "size": 10,
            "sizemode": "area",
            "sizeref": 200000
           },
           "mode": "lines+markers",
           "name": "Afghanistan",
           "text": "Afghanistan",
           "type": "scatter",
           "x": [
            1976
           ],
           "y": [
            51.028
           ]
          },
          {
           "marker": {
            "size": 10,
            "sizemode": "area",
            "sizeref": 200000
           },
           "mode": "lines+markers",
           "name": "Albania",
           "text": "Albania",
           "type": "scatter",
           "x": [
            1976
           ],
           "y": [
            28.397
           ]
          },
          {
           "marker": {
            "size": 10,
            "sizemode": "area",
            "sizeref": 200000
           },
           "mode": "lines+markers",
           "name": "Algeria",
           "text": "Algeria",
           "type": "scatter",
           "x": [
            1976
           ],
           "y": [
            45.69
           ]
          }
         ],
         "name": "1976.0"
        },
        {
         "data": [
          {
           "marker": {
            "size": 10,
            "sizemode": "area",
            "sizeref": 200000
           },
           "mode": "lines+markers",
           "name": "Afghanistan",
           "text": "Afghanistan",
           "type": "scatter",
           "x": [
            1977
           ],
           "y": [
            50.916
           ]
          },
          {
           "marker": {
            "size": 10,
            "sizemode": "area",
            "sizeref": 200000
           },
           "mode": "lines+markers",
           "name": "Albania",
           "text": "Albania",
           "type": "scatter",
           "x": [
            1977
           ],
           "y": [
            27.94
           ]
          },
          {
           "marker": {
            "size": 10,
            "sizemode": "area",
            "sizeref": 200000
           },
           "mode": "lines+markers",
           "name": "Algeria",
           "text": "Algeria",
           "type": "scatter",
           "x": [
            1977
           ],
           "y": [
            45.229
           ]
          }
         ],
         "name": "1977.0"
        },
        {
         "data": [
          {
           "marker": {
            "size": 10,
            "sizemode": "area",
            "sizeref": 200000
           },
           "mode": "lines+markers",
           "name": "Afghanistan",
           "text": "Afghanistan",
           "type": "scatter",
           "x": [
            1978
           ],
           "y": [
            50.806
           ]
          },
          {
           "marker": {
            "size": 10,
            "sizemode": "area",
            "sizeref": 200000
           },
           "mode": "lines+markers",
           "name": "Albania",
           "text": "Albania",
           "type": "scatter",
           "x": [
            1978
           ],
           "y": [
            27.536
           ]
          },
          {
           "marker": {
            "size": 10,
            "sizemode": "area",
            "sizeref": 200000
           },
           "mode": "lines+markers",
           "name": "Algeria",
           "text": "Algeria",
           "type": "scatter",
           "x": [
            1978
           ],
           "y": [
            44.663
           ]
          }
         ],
         "name": "1978.0"
        },
        {
         "data": [
          {
           "marker": {
            "size": 10,
            "sizemode": "area",
            "sizeref": 200000
           },
           "mode": "lines+markers",
           "name": "Afghanistan",
           "text": "Afghanistan",
           "type": "scatter",
           "x": [
            1979
           ],
           "y": [
            50.7
           ]
          },
          {
           "marker": {
            "size": 10,
            "sizemode": "area",
            "sizeref": 200000
           },
           "mode": "lines+markers",
           "name": "Albania",
           "text": "Albania",
           "type": "scatter",
           "x": [
            1979
           ],
           "y": [
            27.186
           ]
          },
          {
           "marker": {
            "size": 10,
            "sizemode": "area",
            "sizeref": 200000
           },
           "mode": "lines+markers",
           "name": "Algeria",
           "text": "Algeria",
           "type": "scatter",
           "x": [
            1979
           ],
           "y": [
            43.988
           ]
          }
         ],
         "name": "1979.0"
        },
        {
         "data": [
          {
           "marker": {
            "size": 10,
            "sizemode": "area",
            "sizeref": 200000
           },
           "mode": "lines+markers",
           "name": "Afghanistan",
           "text": "Afghanistan",
           "type": "scatter",
           "x": [
            1980
           ],
           "y": [
            50.596
           ]
          },
          {
           "marker": {
            "size": 10,
            "sizemode": "area",
            "sizeref": 200000
           },
           "mode": "lines+markers",
           "name": "Albania",
           "text": "Albania",
           "type": "scatter",
           "x": [
            1980
           ],
           "y": [
            26.901
           ]
          },
          {
           "marker": {
            "size": 10,
            "sizemode": "area",
            "sizeref": 200000
           },
           "mode": "lines+markers",
           "name": "Algeria",
           "text": "Algeria",
           "type": "scatter",
           "x": [
            1980
           ],
           "y": [
            43.206
           ]
          }
         ],
         "name": "1980.0"
        },
        {
         "data": [
          {
           "marker": {
            "size": 10,
            "sizemode": "area",
            "sizeref": 200000
           },
           "mode": "lines+markers",
           "name": "Afghanistan",
           "text": "Afghanistan",
           "type": "scatter",
           "x": [
            1981
           ],
           "y": [
            50.493
           ]
          },
          {
           "marker": {
            "size": 10,
            "sizemode": "area",
            "sizeref": 200000
           },
           "mode": "lines+markers",
           "name": "Albania",
           "text": "Albania",
           "type": "scatter",
           "x": [
            1981
           ],
           "y": [
            26.688
           ]
          },
          {
           "marker": {
            "size": 10,
            "sizemode": "area",
            "sizeref": 200000
           },
           "mode": "lines+markers",
           "name": "Algeria",
           "text": "Algeria",
           "type": "scatter",
           "x": [
            1981
           ],
           "y": [
            42.324
           ]
          }
         ],
         "name": "1981.0"
        },
        {
         "data": [
          {
           "marker": {
            "size": 10,
            "sizemode": "area",
            "sizeref": 200000
           },
           "mode": "lines+markers",
           "name": "Afghanistan",
           "text": "Afghanistan",
           "type": "scatter",
           "x": [
            1982
           ],
           "y": [
            50.388
           ]
          },
          {
           "marker": {
            "size": 10,
            "sizemode": "area",
            "sizeref": 200000
           },
           "mode": "lines+markers",
           "name": "Albania",
           "text": "Albania",
           "type": "scatter",
           "x": [
            1982
           ],
           "y": [
            26.541
           ]
          },
          {
           "marker": {
            "size": 10,
            "sizemode": "area",
            "sizeref": 200000
           },
           "mode": "lines+markers",
           "name": "Algeria",
           "text": "Algeria",
           "type": "scatter",
           "x": [
            1982
           ],
           "y": [
            41.364
           ]
          }
         ],
         "name": "1982.0"
        },
        {
         "data": [
          {
           "marker": {
            "size": 10,
            "sizemode": "area",
            "sizeref": 200000
           },
           "mode": "lines+markers",
           "name": "Afghanistan",
           "text": "Afghanistan",
           "type": "scatter",
           "x": [
            1983
           ],
           "y": [
            50.277
           ]
          },
          {
           "marker": {
            "size": 10,
            "sizemode": "area",
            "sizeref": 200000
           },
           "mode": "lines+markers",
           "name": "Albania",
           "text": "Albania",
           "type": "scatter",
           "x": [
            1983
           ],
           "y": [
            26.44
           ]
          },
          {
           "marker": {
            "size": 10,
            "sizemode": "area",
            "sizeref": 200000
           },
           "mode": "lines+markers",
           "name": "Algeria",
           "text": "Algeria",
           "type": "scatter",
           "x": [
            1983
           ],
           "y": [
            40.345
           ]
          }
         ],
         "name": "1983.0"
        },
        {
         "data": [
          {
           "marker": {
            "size": 10,
            "sizemode": "area",
            "sizeref": 200000
           },
           "mode": "lines+markers",
           "name": "Afghanistan",
           "text": "Afghanistan",
           "type": "scatter",
           "x": [
            1984
           ],
           "y": [
            50.157
           ]
          },
          {
           "marker": {
            "size": 10,
            "sizemode": "area",
            "sizeref": 200000
           },
           "mode": "lines+markers",
           "name": "Albania",
           "text": "Albania",
           "type": "scatter",
           "x": [
            1984
           ],
           "y": [
            26.363
           ]
          },
          {
           "marker": {
            "size": 10,
            "sizemode": "area",
            "sizeref": 200000
           },
           "mode": "lines+markers",
           "name": "Algeria",
           "text": "Algeria",
           "type": "scatter",
           "x": [
            1984
           ],
           "y": [
            39.277
           ]
          }
         ],
         "name": "1984.0"
        },
        {
         "data": [
          {
           "marker": {
            "size": 10,
            "sizemode": "area",
            "sizeref": 200000
           },
           "mode": "lines+markers",
           "name": "Afghanistan",
           "text": "Afghanistan",
           "type": "scatter",
           "x": [
            1985
           ],
           "y": [
            50.022
           ]
          },
          {
           "marker": {
            "size": 10,
            "sizemode": "area",
            "sizeref": 200000
           },
           "mode": "lines+markers",
           "name": "Albania",
           "text": "Albania",
           "type": "scatter",
           "x": [
            1985
           ],
           "y": [
            26.278
           ]
          },
          {
           "marker": {
            "size": 10,
            "sizemode": "area",
            "sizeref": 200000
           },
           "mode": "lines+markers",
           "name": "Algeria",
           "text": "Algeria",
           "type": "scatter",
           "x": [
            1985
           ],
           "y": [
            38.17
           ]
          }
         ],
         "name": "1985.0"
        },
        {
         "data": [
          {
           "marker": {
            "size": 10,
            "sizemode": "area",
            "sizeref": 200000
           },
           "mode": "lines+markers",
           "name": "Afghanistan",
           "text": "Afghanistan",
           "type": "scatter",
           "x": [
            1986
           ],
           "y": [
            49.863
           ]
          },
          {
           "marker": {
            "size": 10,
            "sizemode": "area",
            "sizeref": 200000
           },
           "mode": "lines+markers",
           "name": "Albania",
           "text": "Albania",
           "type": "scatter",
           "x": [
            1986
           ],
           "y": [
            26.152
           ]
          },
          {
           "marker": {
            "size": 10,
            "sizemode": "area",
            "sizeref": 200000
           },
           "mode": "lines+markers",
           "name": "Algeria",
           "text": "Algeria",
           "type": "scatter",
           "x": [
            1986
           ],
           "y": [
            37.03
           ]
          },
          {
           "marker": {
            "size": 10,
            "sizemode": "area",
            "sizeref": 200000
           },
           "mode": "lines+markers",
           "name": "Andorra",
           "text": "Andorra",
           "type": "scatter",
           "x": [
            1986
           ],
           "y": [
            11.9
           ]
          }
         ],
         "name": "1986.0"
        },
        {
         "data": [
          {
           "marker": {
            "size": 10,
            "sizemode": "area",
            "sizeref": 200000
           },
           "mode": "lines+markers",
           "name": "Afghanistan",
           "text": "Afghanistan",
           "type": "scatter",
           "x": [
            1987
           ],
           "y": [
            49.679
           ]
          },
          {
           "marker": {
            "size": 10,
            "sizemode": "area",
            "sizeref": 200000
           },
           "mode": "lines+markers",
           "name": "Albania",
           "text": "Albania",
           "type": "scatter",
           "x": [
            1987
           ],
           "y": [
            25.959
           ]
          },
          {
           "marker": {
            "size": 10,
            "sizemode": "area",
            "sizeref": 200000
           },
           "mode": "lines+markers",
           "name": "Algeria",
           "text": "Algeria",
           "type": "scatter",
           "x": [
            1987
           ],
           "y": [
            35.857
           ]
          },
          {
           "marker": {
            "size": 10,
            "sizemode": "area",
            "sizeref": 200000
           },
           "mode": "lines+markers",
           "name": "Andorra",
           "text": "Andorra",
           "type": "scatter",
           "x": [
            1987
           ],
           "y": [
            11
           ]
          }
         ],
         "name": "1987.0"
        },
        {
         "data": [
          {
           "marker": {
            "size": 10,
            "sizemode": "area",
            "sizeref": 200000
           },
           "mode": "lines+markers",
           "name": "Afghanistan",
           "text": "Afghanistan",
           "type": "scatter",
           "x": [
            1988
           ],
           "y": [
            49.478
           ]
          },
          {
           "marker": {
            "size": 10,
            "sizemode": "area",
            "sizeref": 200000
           },
           "mode": "lines+markers",
           "name": "Albania",
           "text": "Albania",
           "type": "scatter",
           "x": [
            1988
           ],
           "y": [
            25.677
           ]
          },
          {
           "marker": {
            "size": 10,
            "sizemode": "area",
            "sizeref": 200000
           },
           "mode": "lines+markers",
           "name": "Algeria",
           "text": "Algeria",
           "type": "scatter",
           "x": [
            1988
           ],
           "y": [
            34.651
           ]
          },
          {
           "marker": {
            "size": 10,
            "sizemode": "area",
            "sizeref": 200000
           },
           "mode": "lines+markers",
           "name": "Andorra",
           "text": "Andorra",
           "type": "scatter",
           "x": [
            1988
           ],
           "y": [
            11.6
           ]
          }
         ],
         "name": "1988.0"
        },
        {
         "data": [
          {
           "marker": {
            "size": 10,
            "sizemode": "area",
            "sizeref": 200000
           },
           "mode": "lines+markers",
           "name": "Afghanistan",
           "text": "Afghanistan",
           "type": "scatter",
           "x": [
            1989
           ],
           "y": [
            49.269
           ]
          },
          {
           "marker": {
            "size": 10,
            "sizemode": "area",
            "sizeref": 200000
           },
           "mode": "lines+markers",
           "name": "Albania",
           "text": "Albania",
           "type": "scatter",
           "x": [
            1989
           ],
           "y": [
            25.29
           ]
          },
          {
           "marker": {
            "size": 10,
            "sizemode": "area",
            "sizeref": 200000
           },
           "mode": "lines+markers",
           "name": "Algeria",
           "text": "Algeria",
           "type": "scatter",
           "x": [
            1989
           ],
           "y": [
            33.415
           ]
          },
          {
           "marker": {
            "size": 10,
            "sizemode": "area",
            "sizeref": 200000
           },
           "mode": "lines+markers",
           "name": "Andorra",
           "text": "Andorra",
           "type": "scatter",
           "x": [
            1989
           ],
           "y": [
            12.5
           ]
          }
         ],
         "name": "1989.0"
        },
        {
         "data": [
          {
           "marker": {
            "size": 10,
            "sizemode": "area",
            "sizeref": 200000
           },
           "mode": "lines+markers",
           "name": "Afghanistan",
           "text": "Afghanistan",
           "type": "scatter",
           "x": [
            1990
           ],
           "y": [
            49.08
           ]
          },
          {
           "marker": {
            "size": 10,
            "sizemode": "area",
            "sizeref": 200000
           },
           "mode": "lines+markers",
           "name": "Albania",
           "text": "Albania",
           "type": "scatter",
           "x": [
            1990
           ],
           "y": [
            24.789
           ]
          },
          {
           "marker": {
            "size": 10,
            "sizemode": "area",
            "sizeref": 200000
           },
           "mode": "lines+markers",
           "name": "Algeria",
           "text": "Algeria",
           "type": "scatter",
           "x": [
            1990
           ],
           "y": [
            32.132
           ]
          },
          {
           "marker": {
            "size": 10,
            "sizemode": "area",
            "sizeref": 200000
           },
           "mode": "lines+markers",
           "name": "Andorra",
           "text": "Andorra",
           "type": "scatter",
           "x": [
            1990
           ],
           "y": [
            11.9
           ]
          }
         ],
         "name": "1990.0"
        },
        {
         "data": [
          {
           "marker": {
            "size": 10,
            "sizemode": "area",
            "sizeref": 200000
           },
           "mode": "lines+markers",
           "name": "Afghanistan",
           "text": "Afghanistan",
           "type": "scatter",
           "x": [
            1991
           ],
           "y": [
            48.945
           ]
          },
          {
           "marker": {
            "size": 10,
            "sizemode": "area",
            "sizeref": 200000
           },
           "mode": "lines+markers",
           "name": "Albania",
           "text": "Albania",
           "type": "scatter",
           "x": [
            1991
           ],
           "y": [
            24.171
           ]
          },
          {
           "marker": {
            "size": 10,
            "sizemode": "area",
            "sizeref": 200000
           },
           "mode": "lines+markers",
           "name": "Algeria",
           "text": "Algeria",
           "type": "scatter",
           "x": [
            1991
           ],
           "y": [
            30.777
           ]
          },
          {
           "marker": {
            "size": 10,
            "sizemode": "area",
            "sizeref": 200000
           },
           "mode": "lines+markers",
           "name": "Andorra",
           "text": "Andorra",
           "type": "scatter",
           "x": [
            1991
           ],
           "y": [
            11.9
           ]
          }
         ],
         "name": "1991.0"
        },
        {
         "data": [
          {
           "marker": {
            "size": 10,
            "sizemode": "area",
            "sizeref": 200000
           },
           "mode": "lines+markers",
           "name": "Afghanistan",
           "text": "Afghanistan",
           "type": "scatter",
           "x": [
            1992
           ],
           "y": [
            48.879
           ]
          },
          {
           "marker": {
            "size": 10,
            "sizemode": "area",
            "sizeref": 200000
           },
           "mode": "lines+markers",
           "name": "Albania",
           "text": "Albania",
           "type": "scatter",
           "x": [
            1992
           ],
           "y": [
            23.46
           ]
          },
          {
           "marker": {
            "size": 10,
            "sizemode": "area",
            "sizeref": 200000
           },
           "mode": "lines+markers",
           "name": "Algeria",
           "text": "Algeria",
           "type": "scatter",
           "x": [
            1992
           ],
           "y": [
            29.35
           ]
          },
          {
           "marker": {
            "size": 10,
            "sizemode": "area",
            "sizeref": 200000
           },
           "mode": "lines+markers",
           "name": "Andorra",
           "text": "Andorra",
           "type": "scatter",
           "x": [
            1992
           ],
           "y": [
            12.1
           ]
          }
         ],
         "name": "1992.0"
        },
        {
         "data": [
          {
           "marker": {
            "size": 10,
            "sizemode": "area",
            "sizeref": 200000
           },
           "mode": "lines+markers",
           "name": "Afghanistan",
           "text": "Afghanistan",
           "type": "scatter",
           "x": [
            1993
           ],
           "y": [
            48.882
           ]
          },
          {
           "marker": {
            "size": 10,
            "sizemode": "area",
            "sizeref": 200000
           },
           "mode": "lines+markers",
           "name": "Albania",
           "text": "Albania",
           "type": "scatter",
           "x": [
            1993
           ],
           "y": [
            22.68
           ]
          },
          {
           "marker": {
            "size": 10,
            "sizemode": "area",
            "sizeref": 200000
           },
           "mode": "lines+markers",
           "name": "Algeria",
           "text": "Algeria",
           "type": "scatter",
           "x": [
            1993
           ],
           "y": [
            27.87
           ]
          },
          {
           "marker": {
            "size": 10,
            "sizemode": "area",
            "sizeref": 200000
           },
           "mode": "lines+markers",
           "name": "Andorra",
           "text": "Andorra",
           "type": "scatter",
           "x": [
            1993
           ],
           "y": [
            11.4
           ]
          }
         ],
         "name": "1993.0"
        },
        {
         "data": [
          {
           "marker": {
            "size": 10,
            "sizemode": "area",
            "sizeref": 200000
           },
           "mode": "lines+markers",
           "name": "Afghanistan",
           "text": "Afghanistan",
           "type": "scatter",
           "x": [
            1994
           ],
           "y": [
            48.937
           ]
          },
          {
           "marker": {
            "size": 10,
            "sizemode": "area",
            "sizeref": 200000
           },
           "mode": "lines+markers",
           "name": "Albania",
           "text": "Albania",
           "type": "scatter",
           "x": [
            1994
           ],
           "y": [
            21.845
           ]
          },
          {
           "marker": {
            "size": 10,
            "sizemode": "area",
            "sizeref": 200000
           },
           "mode": "lines+markers",
           "name": "Algeria",
           "text": "Algeria",
           "type": "scatter",
           "x": [
            1994
           ],
           "y": [
            26.371
           ]
          },
          {
           "marker": {
            "size": 10,
            "sizemode": "area",
            "sizeref": 200000
           },
           "mode": "lines+markers",
           "name": "Andorra",
           "text": "Andorra",
           "type": "scatter",
           "x": [
            1994
           ],
           "y": [
            10.9
           ]
          }
         ],
         "name": "1994.0"
        },
        {
         "data": [
          {
           "marker": {
            "size": 10,
            "sizemode": "area",
            "sizeref": 200000
           },
           "mode": "lines+markers",
           "name": "Afghanistan",
           "text": "Afghanistan",
           "type": "scatter",
           "x": [
            1995
           ],
           "y": [
            49.014
           ]
          },
          {
           "marker": {
            "size": 10,
            "sizemode": "area",
            "sizeref": 200000
           },
           "mode": "lines+markers",
           "name": "Albania",
           "text": "Albania",
           "type": "scatter",
           "x": [
            1995
           ],
           "y": [
            20.97
           ]
          },
          {
           "marker": {
            "size": 10,
            "sizemode": "area",
            "sizeref": 200000
           },
           "mode": "lines+markers",
           "name": "Algeria",
           "text": "Algeria",
           "type": "scatter",
           "x": [
            1995
           ],
           "y": [
            24.895
           ]
          },
          {
           "marker": {
            "size": 10,
            "sizemode": "area",
            "sizeref": 200000
           },
           "mode": "lines+markers",
           "name": "Andorra",
           "text": "Andorra",
           "type": "scatter",
           "x": [
            1995
           ],
           "y": [
            11
           ]
          }
         ],
         "name": "1995.0"
        },
        {
         "data": [
          {
           "marker": {
            "size": 10,
            "sizemode": "area",
            "sizeref": 200000
           },
           "mode": "lines+markers",
           "name": "Afghanistan",
           "text": "Afghanistan",
           "type": "scatter",
           "x": [
            1996
           ],
           "y": [
            49.072
           ]
          },
          {
           "marker": {
            "size": 10,
            "sizemode": "area",
            "sizeref": 200000
           },
           "mode": "lines+markers",
           "name": "Albania",
           "text": "Albania",
           "type": "scatter",
           "x": [
            1996
           ],
           "y": [
            20.064
           ]
          },
          {
           "marker": {
            "size": 10,
            "sizemode": "area",
            "sizeref": 200000
           },
           "mode": "lines+markers",
           "name": "Algeria",
           "text": "Algeria",
           "type": "scatter",
           "x": [
            1996
           ],
           "y": [
            23.488
           ]
          },
          {
           "marker": {
            "size": 10,
            "sizemode": "area",
            "sizeref": 200000
           },
           "mode": "lines+markers",
           "name": "Andorra",
           "text": "Andorra",
           "type": "scatter",
           "x": [
            1996
           ],
           "y": [
            10.9
           ]
          }
         ],
         "name": "1996.0"
        },
        {
         "data": [
          {
           "marker": {
            "size": 10,
            "sizemode": "area",
            "sizeref": 200000
           },
           "mode": "lines+markers",
           "name": "Afghanistan",
           "text": "Afghanistan",
           "type": "scatter",
           "x": [
            1997
           ],
           "y": [
            49.067
           ]
          },
          {
           "marker": {
            "size": 10,
            "sizemode": "area",
            "sizeref": 200000
           },
           "mode": "lines+markers",
           "name": "Albania",
           "text": "Albania",
           "type": "scatter",
           "x": [
            1997
           ],
           "y": [
            19.139
           ]
          },
          {
           "marker": {
            "size": 10,
            "sizemode": "area",
            "sizeref": 200000
           },
           "mode": "lines+markers",
           "name": "Algeria",
           "text": "Algeria",
           "type": "scatter",
           "x": [
            1997
           ],
           "y": [
            22.202
           ]
          },
          {
           "marker": {
            "size": 10,
            "sizemode": "area",
            "sizeref": 200000
           },
           "mode": "lines+markers",
           "name": "Andorra",
           "text": "Andorra",
           "type": "scatter",
           "x": [
            1997
           ],
           "y": [
            11.2
           ]
          }
         ],
         "name": "1997.0"
        },
        {
         "data": [
          {
           "marker": {
            "size": 10,
            "sizemode": "area",
            "sizeref": 200000
           },
           "mode": "lines+markers",
           "name": "Afghanistan",
           "text": "Afghanistan",
           "type": "scatter",
           "x": [
            1998
           ],
           "y": [
            48.96
           ]
          },
          {
           "marker": {
            "size": 10,
            "sizemode": "area",
            "sizeref": 200000
           },
           "mode": "lines+markers",
           "name": "Albania",
           "text": "Albania",
           "type": "scatter",
           "x": [
            1998
           ],
           "y": [
            18.212
           ]
          },
          {
           "marker": {
            "size": 10,
            "sizemode": "area",
            "sizeref": 200000
           },
           "mode": "lines+markers",
           "name": "Algeria",
           "text": "Algeria",
           "type": "scatter",
           "x": [
            1998
           ],
           "y": [
            21.089
           ]
          },
          {
           "marker": {
            "size": 10,
            "sizemode": "area",
            "sizeref": 200000
           },
           "mode": "lines+markers",
           "name": "Andorra",
           "text": "Andorra",
           "type": "scatter",
           "x": [
            1998
           ],
           "y": [
            11.9
           ]
          }
         ],
         "name": "1998.0"
        },
        {
         "data": [
          {
           "marker": {
            "size": 10,
            "sizemode": "area",
            "sizeref": 200000
           },
           "mode": "lines+markers",
           "name": "Afghanistan",
           "text": "Afghanistan",
           "type": "scatter",
           "x": [
            1999
           ],
           "y": [
            48.728
           ]
          },
          {
           "marker": {
            "size": 10,
            "sizemode": "area",
            "sizeref": 200000
           },
           "mode": "lines+markers",
           "name": "Albania",
           "text": "Albania",
           "type": "scatter",
           "x": [
            1999
           ],
           "y": [
            17.303
           ]
          },
          {
           "marker": {
            "size": 10,
            "sizemode": "area",
            "sizeref": 200000
           },
           "mode": "lines+markers",
           "name": "Algeria",
           "text": "Algeria",
           "type": "scatter",
           "x": [
            1999
           ],
           "y": [
            20.192
           ]
          },
          {
           "marker": {
            "size": 10,
            "sizemode": "area",
            "sizeref": 200000
           },
           "mode": "lines+markers",
           "name": "Andorra",
           "text": "Andorra",
           "type": "scatter",
           "x": [
            1999
           ],
           "y": [
            12.6
           ]
          }
         ],
         "name": "1999.0"
        },
        {
         "data": [
          {
           "marker": {
            "size": 10,
            "sizemode": "area",
            "sizeref": 200000
           },
           "mode": "lines+markers",
           "name": "Afghanistan",
           "text": "Afghanistan",
           "type": "scatter",
           "x": [
            2000
           ],
           "y": [
            48.36
           ]
          },
          {
           "marker": {
            "size": 10,
            "sizemode": "area",
            "sizeref": 200000
           },
           "mode": "lines+markers",
           "name": "Albania",
           "text": "Albania",
           "type": "scatter",
           "x": [
            2000
           ],
           "y": [
            16.427
           ]
          },
          {
           "marker": {
            "size": 10,
            "sizemode": "area",
            "sizeref": 200000
           },
           "mode": "lines+markers",
           "name": "Algeria",
           "text": "Algeria",
           "type": "scatter",
           "x": [
            2000
           ],
           "y": [
            19.573
           ]
          },
          {
           "marker": {
            "size": 10,
            "sizemode": "area",
            "sizeref": 200000
           },
           "mode": "lines+markers",
           "name": "Andorra",
           "text": "Andorra",
           "type": "scatter",
           "x": [
            2000
           ],
           "y": [
            11.3
           ]
          }
         ],
         "name": "2000.0"
        },
        {
         "data": [
          {
           "marker": {
            "size": 10,
            "sizemode": "area",
            "sizeref": 200000
           },
           "mode": "lines+markers",
           "name": "Afghanistan",
           "text": "Afghanistan",
           "type": "scatter",
           "x": [
            2001
           ],
           "y": [
            47.86
           ]
          },
          {
           "marker": {
            "size": 10,
            "sizemode": "area",
            "sizeref": 200000
           },
           "mode": "lines+markers",
           "name": "Albania",
           "text": "Albania",
           "type": "scatter",
           "x": [
            2001
           ],
           "y": [
            15.594
           ]
          },
          {
           "marker": {
            "size": 10,
            "sizemode": "area",
            "sizeref": 200000
           },
           "mode": "lines+markers",
           "name": "Algeria",
           "text": "Algeria",
           "type": "scatter",
           "x": [
            2001
           ],
           "y": [
            19.277
           ]
          },
          {
           "marker": {
            "size": 10,
            "sizemode": "area",
            "sizeref": 200000
           },
           "mode": "lines+markers",
           "name": "Andorra",
           "text": "Andorra",
           "type": "scatter",
           "x": [
            2001
           ],
           "y": [
            11.8
           ]
          }
         ],
         "name": "2001.0"
        },
        {
         "data": [
          {
           "marker": {
            "size": 10,
            "sizemode": "area",
            "sizeref": 200000
           },
           "mode": "lines+markers",
           "name": "Afghanistan",
           "text": "Afghanistan",
           "type": "scatter",
           "x": [
            2002
           ],
           "y": [
            47.252
           ]
          },
          {
           "marker": {
            "size": 10,
            "sizemode": "area",
            "sizeref": 200000
           },
           "mode": "lines+markers",
           "name": "Albania",
           "text": "Albania",
           "type": "scatter",
           "x": [
            2002
           ],
           "y": [
            14.809
           ]
          },
          {
           "marker": {
            "size": 10,
            "sizemode": "area",
            "sizeref": 200000
           },
           "mode": "lines+markers",
           "name": "Algeria",
           "text": "Algeria",
           "type": "scatter",
           "x": [
            2002
           ],
           "y": [
            19.291
           ]
          },
          {
           "marker": {
            "size": 10,
            "sizemode": "area",
            "sizeref": 200000
           },
           "mode": "lines+markers",
           "name": "Andorra",
           "text": "Andorra",
           "type": "scatter",
           "x": [
            2002
           ],
           "y": [
            11.2
           ]
          }
         ],
         "name": "2002.0"
        },
        {
         "data": [
          {
           "marker": {
            "size": 10,
            "sizemode": "area",
            "sizeref": 200000
           },
           "mode": "lines+markers",
           "name": "Afghanistan",
           "text": "Afghanistan",
           "type": "scatter",
           "x": [
            2003
           ],
           "y": [
            46.556
           ]
          },
          {
           "marker": {
            "size": 10,
            "sizemode": "area",
            "sizeref": 200000
           },
           "mode": "lines+markers",
           "name": "Albania",
           "text": "Albania",
           "type": "scatter",
           "x": [
            2003
           ],
           "y": [
            14.082
           ]
          },
          {
           "marker": {
            "size": 10,
            "sizemode": "area",
            "sizeref": 200000
           },
           "mode": "lines+markers",
           "name": "Algeria",
           "text": "Algeria",
           "type": "scatter",
           "x": [
            2003
           ],
           "y": [
            19.58
           ]
          },
          {
           "marker": {
            "size": 10,
            "sizemode": "area",
            "sizeref": 200000
           },
           "mode": "lines+markers",
           "name": "Andorra",
           "text": "Andorra",
           "type": "scatter",
           "x": [
            2003
           ],
           "y": [
            10.3
           ]
          }
         ],
         "name": "2003.0"
        },
        {
         "data": [
          {
           "marker": {
            "size": 10,
            "sizemode": "area",
            "sizeref": 200000
           },
           "mode": "lines+markers",
           "name": "Afghanistan",
           "text": "Afghanistan",
           "type": "scatter",
           "x": [
            2004
           ],
           "y": [
            45.778
           ]
          },
          {
           "marker": {
            "size": 10,
            "sizemode": "area",
            "sizeref": 200000
           },
           "mode": "lines+markers",
           "name": "Albania",
           "text": "Albania",
           "type": "scatter",
           "x": [
            2004
           ],
           "y": [
            13.43
           ]
          },
          {
           "marker": {
            "size": 10,
            "sizemode": "area",
            "sizeref": 200000
           },
           "mode": "lines+markers",
           "name": "Algeria",
           "text": "Algeria",
           "type": "scatter",
           "x": [
            2004
           ],
           "y": [
            20.102
           ]
          },
          {
           "marker": {
            "size": 10,
            "sizemode": "area",
            "sizeref": 200000
           },
           "mode": "lines+markers",
           "name": "Andorra",
           "text": "Andorra",
           "type": "scatter",
           "x": [
            2004
           ],
           "y": [
            10.9
           ]
          }
         ],
         "name": "2004.0"
        },
        {
         "data": [
          {
           "marker": {
            "size": 10,
            "sizemode": "area",
            "sizeref": 200000
           },
           "mode": "lines+markers",
           "name": "Afghanistan",
           "text": "Afghanistan",
           "type": "scatter",
           "x": [
            2005
           ],
           "y": [
            44.91
           ]
          },
          {
           "marker": {
            "size": 10,
            "sizemode": "area",
            "sizeref": 200000
           },
           "mode": "lines+markers",
           "name": "Albania",
           "text": "Albania",
           "type": "scatter",
           "x": [
            2005
           ],
           "y": [
            12.875
           ]
          },
          {
           "marker": {
            "size": 10,
            "sizemode": "area",
            "sizeref": 200000
           },
           "mode": "lines+markers",
           "name": "Algeria",
           "text": "Algeria",
           "type": "scatter",
           "x": [
            2005
           ],
           "y": [
            20.812
           ]
          },
          {
           "marker": {
            "size": 10,
            "sizemode": "area",
            "sizeref": 200000
           },
           "mode": "lines+markers",
           "name": "Andorra",
           "text": "Andorra",
           "type": "scatter",
           "x": [
            2005
           ],
           "y": [
            10.7
           ]
          }
         ],
         "name": "2005.0"
        },
        {
         "data": [
          {
           "marker": {
            "size": 10,
            "sizemode": "area",
            "sizeref": 200000
           },
           "mode": "lines+markers",
           "name": "Afghanistan",
           "text": "Afghanistan",
           "type": "scatter",
           "x": [
            2006
           ],
           "y": [
            43.937
           ]
          },
          {
           "marker": {
            "size": 10,
            "sizemode": "area",
            "sizeref": 200000
           },
           "mode": "lines+markers",
           "name": "Albania",
           "text": "Albania",
           "type": "scatter",
           "x": [
            2006
           ],
           "y": [
            12.441
           ]
          },
          {
           "marker": {
            "size": 10,
            "sizemode": "area",
            "sizeref": 200000
           },
           "mode": "lines+markers",
           "name": "Algeria",
           "text": "Algeria",
           "type": "scatter",
           "x": [
            2006
           ],
           "y": [
            21.655
           ]
          },
          {
           "marker": {
            "size": 10,
            "sizemode": "area",
            "sizeref": 200000
           },
           "mode": "lines+markers",
           "name": "Andorra",
           "text": "Andorra",
           "type": "scatter",
           "x": [
            2006
           ],
           "y": [
            10.6
           ]
          }
         ],
         "name": "2006.0"
        },
        {
         "data": [
          {
           "marker": {
            "size": 10,
            "sizemode": "area",
            "sizeref": 200000
           },
           "mode": "lines+markers",
           "name": "Afghanistan",
           "text": "Afghanistan",
           "type": "scatter",
           "x": [
            2007
           ],
           "y": [
            42.86
           ]
          },
          {
           "marker": {
            "size": 10,
            "sizemode": "area",
            "sizeref": 200000
           },
           "mode": "lines+markers",
           "name": "Albania",
           "text": "Albania",
           "type": "scatter",
           "x": [
            2007
           ],
           "y": [
            12.129
           ]
          },
          {
           "marker": {
            "size": 10,
            "sizemode": "area",
            "sizeref": 200000
           },
           "mode": "lines+markers",
           "name": "Algeria",
           "text": "Algeria",
           "type": "scatter",
           "x": [
            2007
           ],
           "y": [
            22.555
           ]
          },
          {
           "marker": {
            "size": 10,
            "sizemode": "area",
            "sizeref": 200000
           },
           "mode": "lines+markers",
           "name": "Andorra",
           "text": "Andorra",
           "type": "scatter",
           "x": [
            2007
           ],
           "y": [
            10.1
           ]
          }
         ],
         "name": "2007.0"
        },
        {
         "data": [
          {
           "marker": {
            "size": 10,
            "sizemode": "area",
            "sizeref": 200000
           },
           "mode": "lines+markers",
           "name": "Afghanistan",
           "text": "Afghanistan",
           "type": "scatter",
           "x": [
            2008
           ],
           "y": [
            41.697
           ]
          },
          {
           "marker": {
            "size": 10,
            "sizemode": "area",
            "sizeref": 200000
           },
           "mode": "lines+markers",
           "name": "Albania",
           "text": "Albania",
           "type": "scatter",
           "x": [
            2008
           ],
           "y": [
            11.933
           ]
          },
          {
           "marker": {
            "size": 10,
            "sizemode": "area",
            "sizeref": 200000
           },
           "mode": "lines+markers",
           "name": "Algeria",
           "text": "Algeria",
           "type": "scatter",
           "x": [
            2008
           ],
           "y": [
            23.425
           ]
          },
          {
           "marker": {
            "size": 10,
            "sizemode": "area",
            "sizeref": 200000
           },
           "mode": "lines+markers",
           "name": "Andorra",
           "text": "Andorra",
           "type": "scatter",
           "x": [
            2008
           ],
           "y": [
            10.4
           ]
          }
         ],
         "name": "2008.0"
        },
        {
         "data": [
          {
           "marker": {
            "size": 10,
            "sizemode": "area",
            "sizeref": 200000
           },
           "mode": "lines+markers",
           "name": "Afghanistan",
           "text": "Afghanistan",
           "type": "scatter",
           "x": [
            2009
           ],
           "y": [
            40.474
           ]
          },
          {
           "marker": {
            "size": 10,
            "sizemode": "area",
            "sizeref": 200000
           },
           "mode": "lines+markers",
           "name": "Albania",
           "text": "Albania",
           "type": "scatter",
           "x": [
            2009
           ],
           "y": [
            11.837
           ]
          },
          {
           "marker": {
            "size": 10,
            "sizemode": "area",
            "sizeref": 200000
           },
           "mode": "lines+markers",
           "name": "Algeria",
           "text": "Algeria",
           "type": "scatter",
           "x": [
            2009
           ],
           "y": [
            24.189
           ]
          },
          {
           "marker": {
            "size": 10,
            "sizemode": "area",
            "sizeref": 200000
           },
           "mode": "lines+markers",
           "name": "Andorra",
           "text": "Andorra",
           "type": "scatter",
           "x": [
            2009
           ],
           "y": [
            9.9
           ]
          }
         ],
         "name": "2009.0"
        },
        {
         "data": [
          {
           "marker": {
            "size": 10,
            "sizemode": "area",
            "sizeref": 200000
           },
           "mode": "lines+markers",
           "name": "Afghanistan",
           "text": "Afghanistan",
           "type": "scatter",
           "x": [
            2010
           ],
           "y": [
            39.232
           ]
          },
          {
           "marker": {
            "size": 10,
            "sizemode": "area",
            "sizeref": 200000
           },
           "mode": "lines+markers",
           "name": "Albania",
           "text": "Albania",
           "type": "scatter",
           "x": [
            2010
           ],
           "y": [
            11.819
           ]
          },
          {
           "marker": {
            "size": 10,
            "sizemode": "area",
            "sizeref": 200000
           },
           "mode": "lines+markers",
           "name": "Algeria",
           "text": "Algeria",
           "type": "scatter",
           "x": [
            2010
           ],
           "y": [
            24.762
           ]
          },
          {
           "marker": {
            "size": 10,
            "sizemode": "area",
            "sizeref": 200000
           },
           "mode": "lines+markers",
           "name": "Andorra",
           "text": "Andorra",
           "type": "scatter",
           "x": [
            2010
           ],
           "y": [
            9.8
           ]
          }
         ],
         "name": "2010.0"
        },
        {
         "data": [
          {
           "marker": {
            "size": 10,
            "sizemode": "area",
            "sizeref": 200000
           },
           "mode": "lines+markers",
           "name": "Afghanistan",
           "text": "Afghanistan",
           "type": "scatter",
           "x": [
            2011
           ],
           "y": [
            38.016
           ]
          },
          {
           "marker": {
            "size": 10,
            "sizemode": "area",
            "sizeref": 200000
           },
           "mode": "lines+markers",
           "name": "Albania",
           "text": "Albania",
           "type": "scatter",
           "x": [
            2011
           ],
           "y": [
            11.846
           ]
          },
          {
           "marker": {
            "size": 10,
            "sizemode": "area",
            "sizeref": 200000
           },
           "mode": "lines+markers",
           "name": "Algeria",
           "text": "Algeria",
           "type": "scatter",
           "x": [
            2011
           ],
           "y": [
            25.078
           ]
          }
         ],
         "name": "2011.0"
        },
        {
         "data": [
          {
           "marker": {
            "size": 10,
            "sizemode": "area",
            "sizeref": 200000
           },
           "mode": "lines+markers",
           "name": "Afghanistan",
           "text": "Afghanistan",
           "type": "scatter",
           "x": [
            2012
           ],
           "y": [
            36.863
           ]
          },
          {
           "marker": {
            "size": 10,
            "sizemode": "area",
            "sizeref": 200000
           },
           "mode": "lines+markers",
           "name": "Albania",
           "text": "Albania",
           "type": "scatter",
           "x": [
            2012
           ],
           "y": [
            11.888
           ]
          },
          {
           "marker": {
            "size": 10,
            "sizemode": "area",
            "sizeref": 200000
           },
           "mode": "lines+markers",
           "name": "Algeria",
           "text": "Algeria",
           "type": "scatter",
           "x": [
            2012
           ],
           "y": [
            25.134
           ]
          },
          {
           "marker": {
            "size": 10,
            "sizemode": "area",
            "sizeref": 200000
           },
           "mode": "lines+markers",
           "name": "Andorra",
           "text": "Andorra",
           "type": "scatter",
           "x": [
            2012
           ],
           "y": [
            9.5
           ]
          }
         ],
         "name": "2012.0"
        },
        {
         "data": [
          {
           "marker": {
            "size": 10,
            "sizemode": "area",
            "sizeref": 200000
           },
           "mode": "lines+markers",
           "name": "Afghanistan",
           "text": "Afghanistan",
           "type": "scatter",
           "x": [
            2013
           ],
           "y": [
            35.797
           ]
          },
          {
           "marker": {
            "size": 10,
            "sizemode": "area",
            "sizeref": 200000
           },
           "mode": "lines+markers",
           "name": "Albania",
           "text": "Albania",
           "type": "scatter",
           "x": [
            2013
           ],
           "y": [
            11.916
           ]
          },
          {
           "marker": {
            "size": 10,
            "sizemode": "area",
            "sizeref": 200000
           },
           "mode": "lines+markers",
           "name": "Algeria",
           "text": "Algeria",
           "type": "scatter",
           "x": [
            2013
           ],
           "y": [
            24.945
           ]
          }
         ],
         "name": "2013.0"
        },
        {
         "data": [
          {
           "marker": {
            "size": 10,
            "sizemode": "area",
            "sizeref": 200000
           },
           "mode": "lines+markers",
           "name": "Afghanistan",
           "text": "Afghanistan",
           "type": "scatter",
           "x": [
            2014
           ],
           "y": [
            34.836
           ]
          },
          {
           "marker": {
            "size": 10,
            "sizemode": "area",
            "sizeref": 200000
           },
           "mode": "lines+markers",
           "name": "Albania",
           "text": "Albania",
           "type": "scatter",
           "x": [
            2014
           ],
           "y": [
            11.914
           ]
          },
          {
           "marker": {
            "size": 10,
            "sizemode": "area",
            "sizeref": 200000
           },
           "mode": "lines+markers",
           "name": "Algeria",
           "text": "Algeria",
           "type": "scatter",
           "x": [
            2014
           ],
           "y": [
            24.522
           ]
          }
         ],
         "name": "2014.0"
        },
        {
         "data": [
          {
           "marker": {
            "size": 10,
            "sizemode": "area",
            "sizeref": 200000
           },
           "mode": "lines+markers",
           "name": "Afghanistan",
           "text": "Afghanistan",
           "type": "scatter",
           "x": [
            2015
           ],
           "y": [
            33.98
           ]
          },
          {
           "marker": {
            "size": 10,
            "sizemode": "area",
            "sizeref": 200000
           },
           "mode": "lines+markers",
           "name": "Albania",
           "text": "Albania",
           "type": "scatter",
           "x": [
            2015
           ],
           "y": [
            11.879
           ]
          },
          {
           "marker": {
            "size": 10,
            "sizemode": "area",
            "sizeref": 200000
           },
           "mode": "lines+markers",
           "name": "Algeria",
           "text": "Algeria",
           "type": "scatter",
           "x": [
            2015
           ],
           "y": [
            23.9
           ]
          }
         ],
         "name": "2015.0"
        }
       ],
       "layout": {
        "hovermode": "closest",
        "plot_bgcolor": "rgb(223, 232, 243)",
        "showlegend": true,
        "sliders": [
         {
          "active": 0,
          "currentvalue": {
           "font": {
            "size": 20
           },
           "prefix": "Year:",
           "visible": true,
           "xanchor": "right"
          },
          "len": 0.9,
          "pad": {
           "b": 10,
           "t": 50
          },
          "steps": [
           {
            "args": [
             [
              1960
             ],
             {
              "frame": {
               "duration": 500,
               "redraw": false
              },
              "mode": "immediate",
              "transition": {
               "duration": 300
              }
             }
            ],
            "label": "1960.0",
            "method": "animate"
           },
           {
            "args": [
             [
              1961
             ],
             {
              "frame": {
               "duration": 500,
               "redraw": false
              },
              "mode": "immediate",
              "transition": {
               "duration": 300
              }
             }
            ],
            "label": "1961.0",
            "method": "animate"
           },
           {
            "args": [
             [
              1962
             ],
             {
              "frame": {
               "duration": 500,
               "redraw": false
              },
              "mode": "immediate",
              "transition": {
               "duration": 300
              }
             }
            ],
            "label": "1962.0",
            "method": "animate"
           },
           {
            "args": [
             [
              1963
             ],
             {
              "frame": {
               "duration": 500,
               "redraw": false
              },
              "mode": "immediate",
              "transition": {
               "duration": 300
              }
             }
            ],
            "label": "1963.0",
            "method": "animate"
           },
           {
            "args": [
             [
              1964
             ],
             {
              "frame": {
               "duration": 500,
               "redraw": false
              },
              "mode": "immediate",
              "transition": {
               "duration": 300
              }
             }
            ],
            "label": "1964.0",
            "method": "animate"
           },
           {
            "args": [
             [
              1965
             ],
             {
              "frame": {
               "duration": 500,
               "redraw": false
              },
              "mode": "immediate",
              "transition": {
               "duration": 300
              }
             }
            ],
            "label": "1965.0",
            "method": "animate"
           },
           {
            "args": [
             [
              1966
             ],
             {
              "frame": {
               "duration": 500,
               "redraw": false
              },
              "mode": "immediate",
              "transition": {
               "duration": 300
              }
             }
            ],
            "label": "1966.0",
            "method": "animate"
           },
           {
            "args": [
             [
              1967
             ],
             {
              "frame": {
               "duration": 500,
               "redraw": false
              },
              "mode": "immediate",
              "transition": {
               "duration": 300
              }
             }
            ],
            "label": "1967.0",
            "method": "animate"
           },
           {
            "args": [
             [
              1968
             ],
             {
              "frame": {
               "duration": 500,
               "redraw": false
              },
              "mode": "immediate",
              "transition": {
               "duration": 300
              }
             }
            ],
            "label": "1968.0",
            "method": "animate"
           },
           {
            "args": [
             [
              1969
             ],
             {
              "frame": {
               "duration": 500,
               "redraw": false
              },
              "mode": "immediate",
              "transition": {
               "duration": 300
              }
             }
            ],
            "label": "1969.0",
            "method": "animate"
           },
           {
            "args": [
             [
              1970
             ],
             {
              "frame": {
               "duration": 500,
               "redraw": false
              },
              "mode": "immediate",
              "transition": {
               "duration": 300
              }
             }
            ],
            "label": "1970.0",
            "method": "animate"
           },
           {
            "args": [
             [
              1971
             ],
             {
              "frame": {
               "duration": 500,
               "redraw": false
              },
              "mode": "immediate",
              "transition": {
               "duration": 300
              }
             }
            ],
            "label": "1971.0",
            "method": "animate"
           },
           {
            "args": [
             [
              1972
             ],
             {
              "frame": {
               "duration": 500,
               "redraw": false
              },
              "mode": "immediate",
              "transition": {
               "duration": 300
              }
             }
            ],
            "label": "1972.0",
            "method": "animate"
           },
           {
            "args": [
             [
              1973
             ],
             {
              "frame": {
               "duration": 500,
               "redraw": false
              },
              "mode": "immediate",
              "transition": {
               "duration": 300
              }
             }
            ],
            "label": "1973.0",
            "method": "animate"
           },
           {
            "args": [
             [
              1974
             ],
             {
              "frame": {
               "duration": 500,
               "redraw": false
              },
              "mode": "immediate",
              "transition": {
               "duration": 300
              }
             }
            ],
            "label": "1974.0",
            "method": "animate"
           },
           {
            "args": [
             [
              1975
             ],
             {
              "frame": {
               "duration": 500,
               "redraw": false
              },
              "mode": "immediate",
              "transition": {
               "duration": 300
              }
             }
            ],
            "label": "1975.0",
            "method": "animate"
           },
           {
            "args": [
             [
              1976
             ],
             {
              "frame": {
               "duration": 500,
               "redraw": false
              },
              "mode": "immediate",
              "transition": {
               "duration": 300
              }
             }
            ],
            "label": "1976.0",
            "method": "animate"
           },
           {
            "args": [
             [
              1977
             ],
             {
              "frame": {
               "duration": 500,
               "redraw": false
              },
              "mode": "immediate",
              "transition": {
               "duration": 300
              }
             }
            ],
            "label": "1977.0",
            "method": "animate"
           },
           {
            "args": [
             [
              1978
             ],
             {
              "frame": {
               "duration": 500,
               "redraw": false
              },
              "mode": "immediate",
              "transition": {
               "duration": 300
              }
             }
            ],
            "label": "1978.0",
            "method": "animate"
           },
           {
            "args": [
             [
              1979
             ],
             {
              "frame": {
               "duration": 500,
               "redraw": false
              },
              "mode": "immediate",
              "transition": {
               "duration": 300
              }
             }
            ],
            "label": "1979.0",
            "method": "animate"
           },
           {
            "args": [
             [
              1980
             ],
             {
              "frame": {
               "duration": 500,
               "redraw": false
              },
              "mode": "immediate",
              "transition": {
               "duration": 300
              }
             }
            ],
            "label": "1980.0",
            "method": "animate"
           },
           {
            "args": [
             [
              1981
             ],
             {
              "frame": {
               "duration": 500,
               "redraw": false
              },
              "mode": "immediate",
              "transition": {
               "duration": 300
              }
             }
            ],
            "label": "1981.0",
            "method": "animate"
           },
           {
            "args": [
             [
              1982
             ],
             {
              "frame": {
               "duration": 500,
               "redraw": false
              },
              "mode": "immediate",
              "transition": {
               "duration": 300
              }
             }
            ],
            "label": "1982.0",
            "method": "animate"
           },
           {
            "args": [
             [
              1983
             ],
             {
              "frame": {
               "duration": 500,
               "redraw": false
              },
              "mode": "immediate",
              "transition": {
               "duration": 300
              }
             }
            ],
            "label": "1983.0",
            "method": "animate"
           },
           {
            "args": [
             [
              1984
             ],
             {
              "frame": {
               "duration": 500,
               "redraw": false
              },
              "mode": "immediate",
              "transition": {
               "duration": 300
              }
             }
            ],
            "label": "1984.0",
            "method": "animate"
           },
           {
            "args": [
             [
              1985
             ],
             {
              "frame": {
               "duration": 500,
               "redraw": false
              },
              "mode": "immediate",
              "transition": {
               "duration": 300
              }
             }
            ],
            "label": "1985.0",
            "method": "animate"
           },
           {
            "args": [
             [
              1986
             ],
             {
              "frame": {
               "duration": 500,
               "redraw": false
              },
              "mode": "immediate",
              "transition": {
               "duration": 300
              }
             }
            ],
            "label": "1986.0",
            "method": "animate"
           },
           {
            "args": [
             [
              1987
             ],
             {
              "frame": {
               "duration": 500,
               "redraw": false
              },
              "mode": "immediate",
              "transition": {
               "duration": 300
              }
             }
            ],
            "label": "1987.0",
            "method": "animate"
           },
           {
            "args": [
             [
              1988
             ],
             {
              "frame": {
               "duration": 500,
               "redraw": false
              },
              "mode": "immediate",
              "transition": {
               "duration": 300
              }
             }
            ],
            "label": "1988.0",
            "method": "animate"
           },
           {
            "args": [
             [
              1989
             ],
             {
              "frame": {
               "duration": 500,
               "redraw": false
              },
              "mode": "immediate",
              "transition": {
               "duration": 300
              }
             }
            ],
            "label": "1989.0",
            "method": "animate"
           },
           {
            "args": [
             [
              1990
             ],
             {
              "frame": {
               "duration": 500,
               "redraw": false
              },
              "mode": "immediate",
              "transition": {
               "duration": 300
              }
             }
            ],
            "label": "1990.0",
            "method": "animate"
           },
           {
            "args": [
             [
              1991
             ],
             {
              "frame": {
               "duration": 500,
               "redraw": false
              },
              "mode": "immediate",
              "transition": {
               "duration": 300
              }
             }
            ],
            "label": "1991.0",
            "method": "animate"
           },
           {
            "args": [
             [
              1992
             ],
             {
              "frame": {
               "duration": 500,
               "redraw": false
              },
              "mode": "immediate",
              "transition": {
               "duration": 300
              }
             }
            ],
            "label": "1992.0",
            "method": "animate"
           },
           {
            "args": [
             [
              1993
             ],
             {
              "frame": {
               "duration": 500,
               "redraw": false
              },
              "mode": "immediate",
              "transition": {
               "duration": 300
              }
             }
            ],
            "label": "1993.0",
            "method": "animate"
           },
           {
            "args": [
             [
              1994
             ],
             {
              "frame": {
               "duration": 500,
               "redraw": false
              },
              "mode": "immediate",
              "transition": {
               "duration": 300
              }
             }
            ],
            "label": "1994.0",
            "method": "animate"
           },
           {
            "args": [
             [
              1995
             ],
             {
              "frame": {
               "duration": 500,
               "redraw": false
              },
              "mode": "immediate",
              "transition": {
               "duration": 300
              }
             }
            ],
            "label": "1995.0",
            "method": "animate"
           },
           {
            "args": [
             [
              1996
             ],
             {
              "frame": {
               "duration": 500,
               "redraw": false
              },
              "mode": "immediate",
              "transition": {
               "duration": 300
              }
             }
            ],
            "label": "1996.0",
            "method": "animate"
           },
           {
            "args": [
             [
              1997
             ],
             {
              "frame": {
               "duration": 500,
               "redraw": false
              },
              "mode": "immediate",
              "transition": {
               "duration": 300
              }
             }
            ],
            "label": "1997.0",
            "method": "animate"
           },
           {
            "args": [
             [
              1998
             ],
             {
              "frame": {
               "duration": 500,
               "redraw": false
              },
              "mode": "immediate",
              "transition": {
               "duration": 300
              }
             }
            ],
            "label": "1998.0",
            "method": "animate"
           },
           {
            "args": [
             [
              1999
             ],
             {
              "frame": {
               "duration": 500,
               "redraw": false
              },
              "mode": "immediate",
              "transition": {
               "duration": 300
              }
             }
            ],
            "label": "1999.0",
            "method": "animate"
           },
           {
            "args": [
             [
              2000
             ],
             {
              "frame": {
               "duration": 500,
               "redraw": false
              },
              "mode": "immediate",
              "transition": {
               "duration": 300
              }
             }
            ],
            "label": "2000.0",
            "method": "animate"
           },
           {
            "args": [
             [
              2001
             ],
             {
              "frame": {
               "duration": 500,
               "redraw": false
              },
              "mode": "immediate",
              "transition": {
               "duration": 300
              }
             }
            ],
            "label": "2001.0",
            "method": "animate"
           },
           {
            "args": [
             [
              2002
             ],
             {
              "frame": {
               "duration": 500,
               "redraw": false
              },
              "mode": "immediate",
              "transition": {
               "duration": 300
              }
             }
            ],
            "label": "2002.0",
            "method": "animate"
           },
           {
            "args": [
             [
              2003
             ],
             {
              "frame": {
               "duration": 500,
               "redraw": false
              },
              "mode": "immediate",
              "transition": {
               "duration": 300
              }
             }
            ],
            "label": "2003.0",
            "method": "animate"
           },
           {
            "args": [
             [
              2004
             ],
             {
              "frame": {
               "duration": 500,
               "redraw": false
              },
              "mode": "immediate",
              "transition": {
               "duration": 300
              }
             }
            ],
            "label": "2004.0",
            "method": "animate"
           },
           {
            "args": [
             [
              2005
             ],
             {
              "frame": {
               "duration": 500,
               "redraw": false
              },
              "mode": "immediate",
              "transition": {
               "duration": 300
              }
             }
            ],
            "label": "2005.0",
            "method": "animate"
           },
           {
            "args": [
             [
              2006
             ],
             {
              "frame": {
               "duration": 500,
               "redraw": false
              },
              "mode": "immediate",
              "transition": {
               "duration": 300
              }
             }
            ],
            "label": "2006.0",
            "method": "animate"
           },
           {
            "args": [
             [
              2007
             ],
             {
              "frame": {
               "duration": 500,
               "redraw": false
              },
              "mode": "immediate",
              "transition": {
               "duration": 300
              }
             }
            ],
            "label": "2007.0",
            "method": "animate"
           },
           {
            "args": [
             [
              2008
             ],
             {
              "frame": {
               "duration": 500,
               "redraw": false
              },
              "mode": "immediate",
              "transition": {
               "duration": 300
              }
             }
            ],
            "label": "2008.0",
            "method": "animate"
           },
           {
            "args": [
             [
              2009
             ],
             {
              "frame": {
               "duration": 500,
               "redraw": false
              },
              "mode": "immediate",
              "transition": {
               "duration": 300
              }
             }
            ],
            "label": "2009.0",
            "method": "animate"
           },
           {
            "args": [
             [
              2010
             ],
             {
              "frame": {
               "duration": 500,
               "redraw": false
              },
              "mode": "immediate",
              "transition": {
               "duration": 300
              }
             }
            ],
            "label": "2010.0",
            "method": "animate"
           },
           {
            "args": [
             [
              2011
             ],
             {
              "frame": {
               "duration": 500,
               "redraw": false
              },
              "mode": "immediate",
              "transition": {
               "duration": 300
              }
             }
            ],
            "label": "2011.0",
            "method": "animate"
           },
           {
            "args": [
             [
              2012
             ],
             {
              "frame": {
               "duration": 500,
               "redraw": false
              },
              "mode": "immediate",
              "transition": {
               "duration": 300
              }
             }
            ],
            "label": "2012.0",
            "method": "animate"
           },
           {
            "args": [
             [
              2013
             ],
             {
              "frame": {
               "duration": 500,
               "redraw": false
              },
              "mode": "immediate",
              "transition": {
               "duration": 300
              }
             }
            ],
            "label": "2013.0",
            "method": "animate"
           },
           {
            "args": [
             [
              2014
             ],
             {
              "frame": {
               "duration": 500,
               "redraw": false
              },
              "mode": "immediate",
              "transition": {
               "duration": 300
              }
             }
            ],
            "label": "2014.0",
            "method": "animate"
           },
           {
            "args": [
             [
              2015
             ],
             {
              "frame": {
               "duration": 500,
               "redraw": false
              },
              "mode": "immediate",
              "transition": {
               "duration": 300
              }
             }
            ],
            "label": "2015.0",
            "method": "animate"
           }
          ],
          "transition": {
           "duration": 300,
           "easing": "cubic-in-out"
          },
          "x": 0.1,
          "xanchor": "left",
          "y": 0,
          "yanchor": "top"
         }
        ],
        "updatemenus": [
         {
          "buttons": [
           {
            "args": [
             null,
             {
              "frame": {
               "duration": 500,
               "redraw": false
              },
              "fromcurrent": true,
              "transition": {
               "duration": 300,
               "easing": "quadratic-in-out"
              }
             }
            ],
            "label": "Play",
            "method": "animate"
           },
           {
            "args": [
             [
              null
             ],
             {
              "frame": {
               "duration": 0,
               "redraw": false
              },
              "mode": "immediate",
              "transition": {
               "duration": 0
              }
             }
            ],
            "label": "Pause",
            "method": "animate"
           }
          ],
          "direction": "left",
          "pad": {
           "r": 10,
           "t": 87
          },
          "showactive": false,
          "type": "buttons",
          "x": 0.1,
          "xanchor": "right",
          "y": 0,
          "yanchor": "top"
         }
        ],
        "xaxis": {
         "gridcolor": "#FFFFFF",
         "range": [
          1960,
          2015
         ],
         "title": {
          "text": "Year"
         }
        },
        "yaxis": {
         "gridcolor": "#FFFFFF",
         "range": [
          0,
          100
         ],
         "title": {
          "text": "Births Per One Thousand People Per Year"
         }
        }
       }
      },
      "text/html": [
       "<div>\n",
       "        \n",
       "        \n",
       "            <div id=\"c42a400b-f538-4ceb-a1b8-6ac7ffc3d038\" class=\"plotly-graph-div\" style=\"height:525px; width:100%;\"></div>\n",
       "            <script type=\"text/javascript\">\n",
       "                require([\"plotly\"], function(Plotly) {\n",
       "                    window.PLOTLYENV=window.PLOTLYENV || {};\n",
       "                    window.PLOTLYENV.BASE_URL='https://plot.ly';\n",
       "                    \n",
       "                if (document.getElementById(\"c42a400b-f538-4ceb-a1b8-6ac7ffc3d038\")) {\n",
       "                    Plotly.newPlot(\n",
       "                        'c42a400b-f538-4ceb-a1b8-6ac7ffc3d038',\n",
       "                        [{\"marker\": {\"size\": 10, \"sizemode\": \"area\", \"sizeref\": 200000}, \"mode\": \"lines+markers\", \"name\": \"Andorra\", \"text\": \"Andorra\", \"type\": \"scatter\", \"uid\": \"fb2ad571-41e4-4506-a45f-053b54d203e8\", \"x\": [1986.0], \"y\": [11.9]}, {\"marker\": {\"size\": 10, \"sizemode\": \"area\", \"sizeref\": 200000}, \"mode\": \"lines+markers\", \"name\": \"Afghanistan\", \"text\": \"Afghanistan\", \"type\": \"scatter\", \"uid\": \"c22aeb6d-588d-4355-85c9-c3962e8a91ed\", \"x\": [1960.0], \"y\": [51.293]}, {\"marker\": {\"size\": 10, \"sizemode\": \"area\", \"sizeref\": 200000}, \"mode\": \"lines+markers\", \"name\": \"Albania\", \"text\": \"Albania\", \"type\": \"scatter\", \"uid\": \"1f34a8a4-9a0d-43bf-9847-4ce1c85a886e\", \"x\": [1960.0], \"y\": [40.925]}, {\"marker\": {\"size\": 10, \"sizemode\": \"area\", \"sizeref\": 200000}, \"mode\": \"lines+markers\", \"name\": \"Algeria\", \"text\": \"Algeria\", \"type\": \"scatter\", \"uid\": \"d6db6473-f3b7-4479-85d3-03c3e081424e\", \"x\": [1960.0], \"y\": [49.671]}],\n",
       "                        {\"hovermode\": \"closest\", \"plot_bgcolor\": \"rgb(223, 232, 243)\", \"showlegend\": true, \"sliders\": [{\"active\": 0, \"currentvalue\": {\"font\": {\"size\": 20}, \"prefix\": \"Year:\", \"visible\": true, \"xanchor\": \"right\"}, \"len\": 0.9, \"pad\": {\"b\": 10, \"t\": 50}, \"steps\": [{\"args\": [[1960.0], {\"frame\": {\"duration\": 500, \"redraw\": false}, \"mode\": \"immediate\", \"transition\": {\"duration\": 300}}], \"label\": \"1960.0\", \"method\": \"animate\"}, {\"args\": [[1961.0], {\"frame\": {\"duration\": 500, \"redraw\": false}, \"mode\": \"immediate\", \"transition\": {\"duration\": 300}}], \"label\": \"1961.0\", \"method\": \"animate\"}, {\"args\": [[1962.0], {\"frame\": {\"duration\": 500, \"redraw\": false}, \"mode\": \"immediate\", \"transition\": {\"duration\": 300}}], \"label\": \"1962.0\", \"method\": \"animate\"}, {\"args\": [[1963.0], {\"frame\": {\"duration\": 500, \"redraw\": false}, \"mode\": \"immediate\", \"transition\": {\"duration\": 300}}], \"label\": \"1963.0\", \"method\": \"animate\"}, {\"args\": [[1964.0], {\"frame\": {\"duration\": 500, \"redraw\": false}, \"mode\": \"immediate\", \"transition\": {\"duration\": 300}}], \"label\": \"1964.0\", \"method\": \"animate\"}, {\"args\": [[1965.0], {\"frame\": {\"duration\": 500, \"redraw\": false}, \"mode\": \"immediate\", \"transition\": {\"duration\": 300}}], \"label\": \"1965.0\", \"method\": \"animate\"}, {\"args\": [[1966.0], {\"frame\": {\"duration\": 500, \"redraw\": false}, \"mode\": \"immediate\", \"transition\": {\"duration\": 300}}], \"label\": \"1966.0\", \"method\": \"animate\"}, {\"args\": [[1967.0], {\"frame\": {\"duration\": 500, \"redraw\": false}, \"mode\": \"immediate\", \"transition\": {\"duration\": 300}}], \"label\": \"1967.0\", \"method\": \"animate\"}, {\"args\": [[1968.0], {\"frame\": {\"duration\": 500, \"redraw\": false}, \"mode\": \"immediate\", \"transition\": {\"duration\": 300}}], \"label\": \"1968.0\", \"method\": \"animate\"}, {\"args\": [[1969.0], {\"frame\": {\"duration\": 500, \"redraw\": false}, \"mode\": \"immediate\", \"transition\": {\"duration\": 300}}], \"label\": \"1969.0\", \"method\": \"animate\"}, {\"args\": [[1970.0], {\"frame\": {\"duration\": 500, \"redraw\": false}, \"mode\": \"immediate\", \"transition\": {\"duration\": 300}}], \"label\": \"1970.0\", \"method\": \"animate\"}, {\"args\": [[1971.0], {\"frame\": {\"duration\": 500, \"redraw\": false}, \"mode\": \"immediate\", \"transition\": {\"duration\": 300}}], \"label\": \"1971.0\", \"method\": \"animate\"}, {\"args\": [[1972.0], {\"frame\": {\"duration\": 500, \"redraw\": false}, \"mode\": \"immediate\", \"transition\": {\"duration\": 300}}], \"label\": \"1972.0\", \"method\": \"animate\"}, {\"args\": [[1973.0], {\"frame\": {\"duration\": 500, \"redraw\": false}, \"mode\": \"immediate\", \"transition\": {\"duration\": 300}}], \"label\": \"1973.0\", \"method\": \"animate\"}, {\"args\": [[1974.0], {\"frame\": {\"duration\": 500, \"redraw\": false}, \"mode\": \"immediate\", \"transition\": {\"duration\": 300}}], \"label\": \"1974.0\", \"method\": \"animate\"}, {\"args\": [[1975.0], {\"frame\": {\"duration\": 500, \"redraw\": false}, \"mode\": \"immediate\", \"transition\": {\"duration\": 300}}], \"label\": \"1975.0\", \"method\": \"animate\"}, {\"args\": [[1976.0], {\"frame\": {\"duration\": 500, \"redraw\": false}, \"mode\": \"immediate\", \"transition\": {\"duration\": 300}}], \"label\": \"1976.0\", \"method\": \"animate\"}, {\"args\": [[1977.0], {\"frame\": {\"duration\": 500, \"redraw\": false}, \"mode\": \"immediate\", \"transition\": {\"duration\": 300}}], \"label\": \"1977.0\", \"method\": \"animate\"}, {\"args\": [[1978.0], {\"frame\": {\"duration\": 500, \"redraw\": false}, \"mode\": \"immediate\", \"transition\": {\"duration\": 300}}], \"label\": \"1978.0\", \"method\": \"animate\"}, {\"args\": [[1979.0], {\"frame\": {\"duration\": 500, \"redraw\": false}, \"mode\": \"immediate\", \"transition\": {\"duration\": 300}}], \"label\": \"1979.0\", \"method\": \"animate\"}, {\"args\": [[1980.0], {\"frame\": {\"duration\": 500, \"redraw\": false}, \"mode\": \"immediate\", \"transition\": {\"duration\": 300}}], \"label\": \"1980.0\", \"method\": \"animate\"}, {\"args\": [[1981.0], {\"frame\": {\"duration\": 500, \"redraw\": false}, \"mode\": \"immediate\", \"transition\": {\"duration\": 300}}], \"label\": \"1981.0\", \"method\": \"animate\"}, {\"args\": [[1982.0], {\"frame\": {\"duration\": 500, \"redraw\": false}, \"mode\": \"immediate\", \"transition\": {\"duration\": 300}}], \"label\": \"1982.0\", \"method\": \"animate\"}, {\"args\": [[1983.0], {\"frame\": {\"duration\": 500, \"redraw\": false}, \"mode\": \"immediate\", \"transition\": {\"duration\": 300}}], \"label\": \"1983.0\", \"method\": \"animate\"}, {\"args\": [[1984.0], {\"frame\": {\"duration\": 500, \"redraw\": false}, \"mode\": \"immediate\", \"transition\": {\"duration\": 300}}], \"label\": \"1984.0\", \"method\": \"animate\"}, {\"args\": [[1985.0], {\"frame\": {\"duration\": 500, \"redraw\": false}, \"mode\": \"immediate\", \"transition\": {\"duration\": 300}}], \"label\": \"1985.0\", \"method\": \"animate\"}, {\"args\": [[1986.0], {\"frame\": {\"duration\": 500, \"redraw\": false}, \"mode\": \"immediate\", \"transition\": {\"duration\": 300}}], \"label\": \"1986.0\", \"method\": \"animate\"}, {\"args\": [[1987.0], {\"frame\": {\"duration\": 500, \"redraw\": false}, \"mode\": \"immediate\", \"transition\": {\"duration\": 300}}], \"label\": \"1987.0\", \"method\": \"animate\"}, {\"args\": [[1988.0], {\"frame\": {\"duration\": 500, \"redraw\": false}, \"mode\": \"immediate\", \"transition\": {\"duration\": 300}}], \"label\": \"1988.0\", \"method\": \"animate\"}, {\"args\": [[1989.0], {\"frame\": {\"duration\": 500, \"redraw\": false}, \"mode\": \"immediate\", \"transition\": {\"duration\": 300}}], \"label\": \"1989.0\", \"method\": \"animate\"}, {\"args\": [[1990.0], {\"frame\": {\"duration\": 500, \"redraw\": false}, \"mode\": \"immediate\", \"transition\": {\"duration\": 300}}], \"label\": \"1990.0\", \"method\": \"animate\"}, {\"args\": [[1991.0], {\"frame\": {\"duration\": 500, \"redraw\": false}, \"mode\": \"immediate\", \"transition\": {\"duration\": 300}}], \"label\": \"1991.0\", \"method\": \"animate\"}, {\"args\": [[1992.0], {\"frame\": {\"duration\": 500, \"redraw\": false}, \"mode\": \"immediate\", \"transition\": {\"duration\": 300}}], \"label\": \"1992.0\", \"method\": \"animate\"}, {\"args\": [[1993.0], {\"frame\": {\"duration\": 500, \"redraw\": false}, \"mode\": \"immediate\", \"transition\": {\"duration\": 300}}], \"label\": \"1993.0\", \"method\": \"animate\"}, {\"args\": [[1994.0], {\"frame\": {\"duration\": 500, \"redraw\": false}, \"mode\": \"immediate\", \"transition\": {\"duration\": 300}}], \"label\": \"1994.0\", \"method\": \"animate\"}, {\"args\": [[1995.0], {\"frame\": {\"duration\": 500, \"redraw\": false}, \"mode\": \"immediate\", \"transition\": {\"duration\": 300}}], \"label\": \"1995.0\", \"method\": \"animate\"}, {\"args\": [[1996.0], {\"frame\": {\"duration\": 500, \"redraw\": false}, \"mode\": \"immediate\", \"transition\": {\"duration\": 300}}], \"label\": \"1996.0\", \"method\": \"animate\"}, {\"args\": [[1997.0], {\"frame\": {\"duration\": 500, \"redraw\": false}, \"mode\": \"immediate\", \"transition\": {\"duration\": 300}}], \"label\": \"1997.0\", \"method\": \"animate\"}, {\"args\": [[1998.0], {\"frame\": {\"duration\": 500, \"redraw\": false}, \"mode\": \"immediate\", \"transition\": {\"duration\": 300}}], \"label\": \"1998.0\", \"method\": \"animate\"}, {\"args\": [[1999.0], {\"frame\": {\"duration\": 500, \"redraw\": false}, \"mode\": \"immediate\", \"transition\": {\"duration\": 300}}], \"label\": \"1999.0\", \"method\": \"animate\"}, {\"args\": [[2000.0], {\"frame\": {\"duration\": 500, \"redraw\": false}, \"mode\": \"immediate\", \"transition\": {\"duration\": 300}}], \"label\": \"2000.0\", \"method\": \"animate\"}, {\"args\": [[2001.0], {\"frame\": {\"duration\": 500, \"redraw\": false}, \"mode\": \"immediate\", \"transition\": {\"duration\": 300}}], \"label\": \"2001.0\", \"method\": \"animate\"}, {\"args\": [[2002.0], {\"frame\": {\"duration\": 500, \"redraw\": false}, \"mode\": \"immediate\", \"transition\": {\"duration\": 300}}], \"label\": \"2002.0\", \"method\": \"animate\"}, {\"args\": [[2003.0], {\"frame\": {\"duration\": 500, \"redraw\": false}, \"mode\": \"immediate\", \"transition\": {\"duration\": 300}}], \"label\": \"2003.0\", \"method\": \"animate\"}, {\"args\": [[2004.0], {\"frame\": {\"duration\": 500, \"redraw\": false}, \"mode\": \"immediate\", \"transition\": {\"duration\": 300}}], \"label\": \"2004.0\", \"method\": \"animate\"}, {\"args\": [[2005.0], {\"frame\": {\"duration\": 500, \"redraw\": false}, \"mode\": \"immediate\", \"transition\": {\"duration\": 300}}], \"label\": \"2005.0\", \"method\": \"animate\"}, {\"args\": [[2006.0], {\"frame\": {\"duration\": 500, \"redraw\": false}, \"mode\": \"immediate\", \"transition\": {\"duration\": 300}}], \"label\": \"2006.0\", \"method\": \"animate\"}, {\"args\": [[2007.0], {\"frame\": {\"duration\": 500, \"redraw\": false}, \"mode\": \"immediate\", \"transition\": {\"duration\": 300}}], \"label\": \"2007.0\", \"method\": \"animate\"}, {\"args\": [[2008.0], {\"frame\": {\"duration\": 500, \"redraw\": false}, \"mode\": \"immediate\", \"transition\": {\"duration\": 300}}], \"label\": \"2008.0\", \"method\": \"animate\"}, {\"args\": [[2009.0], {\"frame\": {\"duration\": 500, \"redraw\": false}, \"mode\": \"immediate\", \"transition\": {\"duration\": 300}}], \"label\": \"2009.0\", \"method\": \"animate\"}, {\"args\": [[2010.0], {\"frame\": {\"duration\": 500, \"redraw\": false}, \"mode\": \"immediate\", \"transition\": {\"duration\": 300}}], \"label\": \"2010.0\", \"method\": \"animate\"}, {\"args\": [[2011.0], {\"frame\": {\"duration\": 500, \"redraw\": false}, \"mode\": \"immediate\", \"transition\": {\"duration\": 300}}], \"label\": \"2011.0\", \"method\": \"animate\"}, {\"args\": [[2012.0], {\"frame\": {\"duration\": 500, \"redraw\": false}, \"mode\": \"immediate\", \"transition\": {\"duration\": 300}}], \"label\": \"2012.0\", \"method\": \"animate\"}, {\"args\": [[2013.0], {\"frame\": {\"duration\": 500, \"redraw\": false}, \"mode\": \"immediate\", \"transition\": {\"duration\": 300}}], \"label\": \"2013.0\", \"method\": \"animate\"}, {\"args\": [[2014.0], {\"frame\": {\"duration\": 500, \"redraw\": false}, \"mode\": \"immediate\", \"transition\": {\"duration\": 300}}], \"label\": \"2014.0\", \"method\": \"animate\"}, {\"args\": [[2015.0], {\"frame\": {\"duration\": 500, \"redraw\": false}, \"mode\": \"immediate\", \"transition\": {\"duration\": 300}}], \"label\": \"2015.0\", \"method\": \"animate\"}], \"transition\": {\"duration\": 300, \"easing\": \"cubic-in-out\"}, \"x\": 0.1, \"xanchor\": \"left\", \"y\": 0, \"yanchor\": \"top\"}], \"updatemenus\": [{\"buttons\": [{\"args\": [null, {\"frame\": {\"duration\": 500, \"redraw\": false}, \"fromcurrent\": true, \"transition\": {\"duration\": 300, \"easing\": \"quadratic-in-out\"}}], \"label\": \"Play\", \"method\": \"animate\"}, {\"args\": [[null], {\"frame\": {\"duration\": 0, \"redraw\": false}, \"mode\": \"immediate\", \"transition\": {\"duration\": 0}}], \"label\": \"Pause\", \"method\": \"animate\"}], \"direction\": \"left\", \"pad\": {\"r\": 10, \"t\": 87}, \"showactive\": false, \"type\": \"buttons\", \"x\": 0.1, \"xanchor\": \"right\", \"y\": 0, \"yanchor\": \"top\"}], \"xaxis\": {\"gridcolor\": \"#FFFFFF\", \"range\": [1960, 2015], \"title\": {\"text\": \"Year\"}}, \"yaxis\": {\"gridcolor\": \"#FFFFFF\", \"range\": [0, 100], \"title\": {\"text\": \"Births Per One Thousand People Per Year\"}}},\n",
       "                        {\"responsive\": true, \"plotlyServerURL\": \"https://plot.ly\", \"linkText\": \"Export to plot.ly\", \"showLink\": \"BirthRateGraph\"}\n",
       "                    ).then(function(){\n",
       "                            Plotly.addFrames('c42a400b-f538-4ceb-a1b8-6ac7ffc3d038', [{\"data\": [{\"name\": \"Afghanistan\", \"text\": \"Afghanistan\", \"marker\": {\"sizemode\": \"area\", \"sizeref\": 200000, \"size\": 10}, \"mode\": \"lines+markers\", \"y\": [51.293], \"x\": [1960.0], \"type\": \"scatter\"}, {\"name\": \"Albania\", \"text\": \"Albania\", \"marker\": {\"sizemode\": \"area\", \"sizeref\": 200000, \"size\": 10}, \"mode\": \"lines+markers\", \"y\": [40.925], \"x\": [1960.0], \"type\": \"scatter\"}, {\"name\": \"Algeria\", \"text\": \"Algeria\", \"marker\": {\"sizemode\": \"area\", \"sizeref\": 200000, \"size\": 10}, \"mode\": \"lines+markers\", \"y\": [49.671], \"x\": [1960.0], \"type\": \"scatter\"}], \"name\": \"1960.0\"}, {\"data\": [{\"name\": \"Afghanistan\", \"text\": \"Afghanistan\", \"marker\": {\"sizemode\": \"area\", \"sizeref\": 200000, \"size\": 10}, \"mode\": \"lines+markers\", \"y\": [51.395], \"x\": [1961.0], \"type\": \"scatter\"}, {\"name\": \"Albania\", \"text\": \"Albania\", \"marker\": {\"sizemode\": \"area\", \"sizeref\": 200000, \"size\": 10}, \"mode\": \"lines+markers\", \"y\": [40.369], \"x\": [1961.0], \"type\": \"scatter\"}, {\"name\": \"Algeria\", \"text\": \"Algeria\", \"marker\": {\"sizemode\": \"area\", \"sizeref\": 200000, \"size\": 10}, \"mode\": \"lines+markers\", \"y\": [49.576], \"x\": [1961.0], \"type\": \"scatter\"}], \"name\": \"1961.0\"}, {\"data\": [{\"name\": \"Afghanistan\", \"text\": \"Afghanistan\", \"marker\": {\"sizemode\": \"area\", \"sizeref\": 200000, \"size\": 10}, \"mode\": \"lines+markers\", \"y\": [51.488], \"x\": [1962.0], \"type\": \"scatter\"}, {\"name\": \"Albania\", \"text\": \"Albania\", \"marker\": {\"sizemode\": \"area\", \"sizeref\": 200000, \"size\": 10}, \"mode\": \"lines+markers\", \"y\": [39.628], \"x\": [1962.0], \"type\": \"scatter\"}, {\"name\": \"Algeria\", \"text\": \"Algeria\", \"marker\": {\"sizemode\": \"area\", \"sizeref\": 200000, \"size\": 10}, \"mode\": \"lines+markers\", \"y\": [49.416], \"x\": [1962.0], \"type\": \"scatter\"}], \"name\": \"1962.0\"}, {\"data\": [{\"name\": \"Afghanistan\", \"text\": \"Afghanistan\", \"marker\": {\"sizemode\": \"area\", \"sizeref\": 200000, \"size\": 10}, \"mode\": \"lines+markers\", \"y\": [51.572], \"x\": [1963.0], \"type\": \"scatter\"}, {\"name\": \"Albania\", \"text\": \"Albania\", \"marker\": {\"sizemode\": \"area\", \"sizeref\": 200000, \"size\": 10}, \"mode\": \"lines+markers\", \"y\": [38.724], \"x\": [1963.0], \"type\": \"scatter\"}, {\"name\": \"Algeria\", \"text\": \"Algeria\", \"marker\": {\"sizemode\": \"area\", \"sizeref\": 200000, \"size\": 10}, \"mode\": \"lines+markers\", \"y\": [49.181], \"x\": [1963.0], \"type\": \"scatter\"}], \"name\": \"1963.0\"}, {\"data\": [{\"name\": \"Afghanistan\", \"text\": \"Afghanistan\", \"marker\": {\"sizemode\": \"area\", \"sizeref\": 200000, \"size\": 10}, \"mode\": \"lines+markers\", \"y\": [51.644], \"x\": [1964.0], \"type\": \"scatter\"}, {\"name\": \"Albania\", \"text\": \"Albania\", \"marker\": {\"sizemode\": \"area\", \"sizeref\": 200000, \"size\": 10}, \"mode\": \"lines+markers\", \"y\": [37.696], \"x\": [1964.0], \"type\": \"scatter\"}, {\"name\": \"Algeria\", \"text\": \"Algeria\", \"marker\": {\"sizemode\": \"area\", \"sizeref\": 200000, \"size\": 10}, \"mode\": \"lines+markers\", \"y\": [48.877], \"x\": [1964.0], \"type\": \"scatter\"}], \"name\": \"1964.0\"}, {\"data\": [{\"name\": \"Afghanistan\", \"text\": \"Afghanistan\", \"marker\": {\"sizemode\": \"area\", \"sizeref\": 200000, \"size\": 10}, \"mode\": \"lines+markers\", \"y\": [51.7], \"x\": [1965.0], \"type\": \"scatter\"}, {\"name\": \"Albania\", \"text\": \"Albania\", \"marker\": {\"sizemode\": \"area\", \"sizeref\": 200000, \"size\": 10}, \"mode\": \"lines+markers\", \"y\": [36.599], \"x\": [1965.0], \"type\": \"scatter\"}, {\"name\": \"Algeria\", \"text\": \"Algeria\", \"marker\": {\"sizemode\": \"area\", \"sizeref\": 200000, \"size\": 10}, \"mode\": \"lines+markers\", \"y\": [48.524], \"x\": [1965.0], \"type\": \"scatter\"}], \"name\": \"1965.0\"}, {\"data\": [{\"name\": \"Afghanistan\", \"text\": \"Afghanistan\", \"marker\": {\"sizemode\": \"area\", \"sizeref\": 200000, \"size\": 10}, \"mode\": \"lines+markers\", \"y\": [51.736], \"x\": [1966.0], \"type\": \"scatter\"}, {\"name\": \"Albania\", \"text\": \"Albania\", \"marker\": {\"sizemode\": \"area\", \"sizeref\": 200000, \"size\": 10}, \"mode\": \"lines+markers\", \"y\": [35.494], \"x\": [1966.0], \"type\": \"scatter\"}, {\"name\": \"Algeria\", \"text\": \"Algeria\", \"marker\": {\"sizemode\": \"area\", \"sizeref\": 200000, \"size\": 10}, \"mode\": \"lines+markers\", \"y\": [48.155], \"x\": [1966.0], \"type\": \"scatter\"}], \"name\": \"1966.0\"}, {\"data\": [{\"name\": \"Afghanistan\", \"text\": \"Afghanistan\", \"marker\": {\"sizemode\": \"area\", \"sizeref\": 200000, \"size\": 10}, \"mode\": \"lines+markers\", \"y\": [51.749], \"x\": [1967.0], \"type\": \"scatter\"}, {\"name\": \"Albania\", \"text\": \"Albania\", \"marker\": {\"sizemode\": \"area\", \"sizeref\": 200000, \"size\": 10}, \"mode\": \"lines+markers\", \"y\": [34.431], \"x\": [1967.0], \"type\": \"scatter\"}, {\"name\": \"Algeria\", \"text\": \"Algeria\", \"marker\": {\"sizemode\": \"area\", \"sizeref\": 200000, \"size\": 10}, \"mode\": \"lines+markers\", \"y\": [47.804], \"x\": [1967.0], \"type\": \"scatter\"}], \"name\": \"1967.0\"}, {\"data\": [{\"name\": \"Afghanistan\", \"text\": \"Afghanistan\", \"marker\": {\"sizemode\": \"area\", \"sizeref\": 200000, \"size\": 10}, \"mode\": \"lines+markers\", \"y\": [51.738], \"x\": [1968.0], \"type\": \"scatter\"}, {\"name\": \"Albania\", \"text\": \"Albania\", \"marker\": {\"sizemode\": \"area\", \"sizeref\": 200000, \"size\": 10}, \"mode\": \"lines+markers\", \"y\": [33.451], \"x\": [1968.0], \"type\": \"scatter\"}, {\"name\": \"Algeria\", \"text\": \"Algeria\", \"marker\": {\"sizemode\": \"area\", \"sizeref\": 200000, \"size\": 10}, \"mode\": \"lines+markers\", \"y\": [47.494], \"x\": [1968.0], \"type\": \"scatter\"}], \"name\": \"1968.0\"}, {\"data\": [{\"name\": \"Afghanistan\", \"text\": \"Afghanistan\", \"marker\": {\"sizemode\": \"area\", \"sizeref\": 200000, \"size\": 10}, \"mode\": \"lines+markers\", \"y\": [51.704], \"x\": [1969.0], \"type\": \"scatter\"}, {\"name\": \"Albania\", \"text\": \"Albania\", \"marker\": {\"sizemode\": \"area\", \"sizeref\": 200000, \"size\": 10}, \"mode\": \"lines+markers\", \"y\": [32.579], \"x\": [1969.0], \"type\": \"scatter\"}, {\"name\": \"Algeria\", \"text\": \"Algeria\", \"marker\": {\"sizemode\": \"area\", \"sizeref\": 200000, \"size\": 10}, \"mode\": \"lines+markers\", \"y\": [47.232], \"x\": [1969.0], \"type\": \"scatter\"}], \"name\": \"1969.0\"}, {\"data\": [{\"name\": \"Afghanistan\", \"text\": \"Afghanistan\", \"marker\": {\"sizemode\": \"area\", \"sizeref\": 200000, \"size\": 10}, \"mode\": \"lines+markers\", \"y\": [51.648], \"x\": [1970.0], \"type\": \"scatter\"}, {\"name\": \"Albania\", \"text\": \"Albania\", \"marker\": {\"sizemode\": \"area\", \"sizeref\": 200000, \"size\": 10}, \"mode\": \"lines+markers\", \"y\": [31.821], \"x\": [1970.0], \"type\": \"scatter\"}, {\"name\": \"Algeria\", \"text\": \"Algeria\", \"marker\": {\"sizemode\": \"area\", \"sizeref\": 200000, \"size\": 10}, \"mode\": \"lines+markers\", \"y\": [47.021], \"x\": [1970.0], \"type\": \"scatter\"}], \"name\": \"1970.0\"}, {\"data\": [{\"name\": \"Afghanistan\", \"text\": \"Afghanistan\", \"marker\": {\"sizemode\": \"area\", \"sizeref\": 200000, \"size\": 10}, \"mode\": \"lines+markers\", \"y\": [51.57], \"x\": [1971.0], \"type\": \"scatter\"}, {\"name\": \"Albania\", \"text\": \"Albania\", \"marker\": {\"sizemode\": \"area\", \"sizeref\": 200000, \"size\": 10}, \"mode\": \"lines+markers\", \"y\": [31.161], \"x\": [1971.0], \"type\": \"scatter\"}, {\"name\": \"Algeria\", \"text\": \"Algeria\", \"marker\": {\"sizemode\": \"area\", \"sizeref\": 200000, \"size\": 10}, \"mode\": \"lines+markers\", \"y\": [46.853], \"x\": [1971.0], \"type\": \"scatter\"}], \"name\": \"1971.0\"}, {\"data\": [{\"name\": \"Afghanistan\", \"text\": \"Afghanistan\", \"marker\": {\"sizemode\": \"area\", \"sizeref\": 200000, \"size\": 10}, \"mode\": \"lines+markers\", \"y\": [51.476], \"x\": [1972.0], \"type\": \"scatter\"}, {\"name\": \"Albania\", \"text\": \"Albania\", \"marker\": {\"sizemode\": \"area\", \"sizeref\": 200000, \"size\": 10}, \"mode\": \"lines+markers\", \"y\": [30.558], \"x\": [1972.0], \"type\": \"scatter\"}, {\"name\": \"Algeria\", \"text\": \"Algeria\", \"marker\": {\"sizemode\": \"area\", \"sizeref\": 200000, \"size\": 10}, \"mode\": \"lines+markers\", \"y\": [46.7], \"x\": [1972.0], \"type\": \"scatter\"}], \"name\": \"1972.0\"}, {\"data\": [{\"name\": \"Afghanistan\", \"text\": \"Afghanistan\", \"marker\": {\"sizemode\": \"area\", \"sizeref\": 200000, \"size\": 10}, \"mode\": \"lines+markers\", \"y\": [51.371], \"x\": [1973.0], \"type\": \"scatter\"}, {\"name\": \"Albania\", \"text\": \"Albania\", \"marker\": {\"sizemode\": \"area\", \"sizeref\": 200000, \"size\": 10}, \"mode\": \"lines+markers\", \"y\": [29.983], \"x\": [1973.0], \"type\": \"scatter\"}, {\"name\": \"Algeria\", \"text\": \"Algeria\", \"marker\": {\"sizemode\": \"area\", \"sizeref\": 200000, \"size\": 10}, \"mode\": \"lines+markers\", \"y\": [46.532], \"x\": [1973.0], \"type\": \"scatter\"}], \"name\": \"1973.0\"}, {\"data\": [{\"name\": \"Afghanistan\", \"text\": \"Afghanistan\", \"marker\": {\"sizemode\": \"area\", \"sizeref\": 200000, \"size\": 10}, \"mode\": \"lines+markers\", \"y\": [51.258], \"x\": [1974.0], \"type\": \"scatter\"}, {\"name\": \"Albania\", \"text\": \"Albania\", \"marker\": {\"sizemode\": \"area\", \"sizeref\": 200000, \"size\": 10}, \"mode\": \"lines+markers\", \"y\": [29.43], \"x\": [1974.0], \"type\": \"scatter\"}, {\"name\": \"Algeria\", \"text\": \"Algeria\", \"marker\": {\"sizemode\": \"area\", \"sizeref\": 200000, \"size\": 10}, \"mode\": \"lines+markers\", \"y\": [46.325], \"x\": [1974.0], \"type\": \"scatter\"}], \"name\": \"1974.0\"}, {\"data\": [{\"name\": \"Afghanistan\", \"text\": \"Afghanistan\", \"marker\": {\"sizemode\": \"area\", \"sizeref\": 200000, \"size\": 10}, \"mode\": \"lines+markers\", \"y\": [51.143], \"x\": [1975.0], \"type\": \"scatter\"}, {\"name\": \"Albania\", \"text\": \"Albania\", \"marker\": {\"sizemode\": \"area\", \"sizeref\": 200000, \"size\": 10}, \"mode\": \"lines+markers\", \"y\": [28.898], \"x\": [1975.0], \"type\": \"scatter\"}, {\"name\": \"Algeria\", \"text\": \"Algeria\", \"marker\": {\"sizemode\": \"area\", \"sizeref\": 200000, \"size\": 10}, \"mode\": \"lines+markers\", \"y\": [46.052], \"x\": [1975.0], \"type\": \"scatter\"}], \"name\": \"1975.0\"}, {\"data\": [{\"name\": \"Afghanistan\", \"text\": \"Afghanistan\", \"marker\": {\"sizemode\": \"area\", \"sizeref\": 200000, \"size\": 10}, \"mode\": \"lines+markers\", \"y\": [51.028], \"x\": [1976.0], \"type\": \"scatter\"}, {\"name\": \"Albania\", \"text\": \"Albania\", \"marker\": {\"sizemode\": \"area\", \"sizeref\": 200000, \"size\": 10}, \"mode\": \"lines+markers\", \"y\": [28.397], \"x\": [1976.0], \"type\": \"scatter\"}, {\"name\": \"Algeria\", \"text\": \"Algeria\", \"marker\": {\"sizemode\": \"area\", \"sizeref\": 200000, \"size\": 10}, \"mode\": \"lines+markers\", \"y\": [45.69], \"x\": [1976.0], \"type\": \"scatter\"}], \"name\": \"1976.0\"}, {\"data\": [{\"name\": \"Afghanistan\", \"text\": \"Afghanistan\", \"marker\": {\"sizemode\": \"area\", \"sizeref\": 200000, \"size\": 10}, \"mode\": \"lines+markers\", \"y\": [50.916], \"x\": [1977.0], \"type\": \"scatter\"}, {\"name\": \"Albania\", \"text\": \"Albania\", \"marker\": {\"sizemode\": \"area\", \"sizeref\": 200000, \"size\": 10}, \"mode\": \"lines+markers\", \"y\": [27.94], \"x\": [1977.0], \"type\": \"scatter\"}, {\"name\": \"Algeria\", \"text\": \"Algeria\", \"marker\": {\"sizemode\": \"area\", \"sizeref\": 200000, \"size\": 10}, \"mode\": \"lines+markers\", \"y\": [45.229], \"x\": [1977.0], \"type\": \"scatter\"}], \"name\": \"1977.0\"}, {\"data\": [{\"name\": \"Afghanistan\", \"text\": \"Afghanistan\", \"marker\": {\"sizemode\": \"area\", \"sizeref\": 200000, \"size\": 10}, \"mode\": \"lines+markers\", \"y\": [50.806], \"x\": [1978.0], \"type\": \"scatter\"}, {\"name\": \"Albania\", \"text\": \"Albania\", \"marker\": {\"sizemode\": \"area\", \"sizeref\": 200000, \"size\": 10}, \"mode\": \"lines+markers\", \"y\": [27.536], \"x\": [1978.0], \"type\": \"scatter\"}, {\"name\": \"Algeria\", \"text\": \"Algeria\", \"marker\": {\"sizemode\": \"area\", \"sizeref\": 200000, \"size\": 10}, \"mode\": \"lines+markers\", \"y\": [44.663], \"x\": [1978.0], \"type\": \"scatter\"}], \"name\": \"1978.0\"}, {\"data\": [{\"name\": \"Afghanistan\", \"text\": \"Afghanistan\", \"marker\": {\"sizemode\": \"area\", \"sizeref\": 200000, \"size\": 10}, \"mode\": \"lines+markers\", \"y\": [50.7], \"x\": [1979.0], \"type\": \"scatter\"}, {\"name\": \"Albania\", \"text\": \"Albania\", \"marker\": {\"sizemode\": \"area\", \"sizeref\": 200000, \"size\": 10}, \"mode\": \"lines+markers\", \"y\": [27.186], \"x\": [1979.0], \"type\": \"scatter\"}, {\"name\": \"Algeria\", \"text\": \"Algeria\", \"marker\": {\"sizemode\": \"area\", \"sizeref\": 200000, \"size\": 10}, \"mode\": \"lines+markers\", \"y\": [43.988], \"x\": [1979.0], \"type\": \"scatter\"}], \"name\": \"1979.0\"}, {\"data\": [{\"name\": \"Afghanistan\", \"text\": \"Afghanistan\", \"marker\": {\"sizemode\": \"area\", \"sizeref\": 200000, \"size\": 10}, \"mode\": \"lines+markers\", \"y\": [50.596], \"x\": [1980.0], \"type\": \"scatter\"}, {\"name\": \"Albania\", \"text\": \"Albania\", \"marker\": {\"sizemode\": \"area\", \"sizeref\": 200000, \"size\": 10}, \"mode\": \"lines+markers\", \"y\": [26.901], \"x\": [1980.0], \"type\": \"scatter\"}, {\"name\": \"Algeria\", \"text\": \"Algeria\", \"marker\": {\"sizemode\": \"area\", \"sizeref\": 200000, \"size\": 10}, \"mode\": \"lines+markers\", \"y\": [43.206], \"x\": [1980.0], \"type\": \"scatter\"}], \"name\": \"1980.0\"}, {\"data\": [{\"name\": \"Afghanistan\", \"text\": \"Afghanistan\", \"marker\": {\"sizemode\": \"area\", \"sizeref\": 200000, \"size\": 10}, \"mode\": \"lines+markers\", \"y\": [50.493], \"x\": [1981.0], \"type\": \"scatter\"}, {\"name\": \"Albania\", \"text\": \"Albania\", \"marker\": {\"sizemode\": \"area\", \"sizeref\": 200000, \"size\": 10}, \"mode\": \"lines+markers\", \"y\": [26.688], \"x\": [1981.0], \"type\": \"scatter\"}, {\"name\": \"Algeria\", \"text\": \"Algeria\", \"marker\": {\"sizemode\": \"area\", \"sizeref\": 200000, \"size\": 10}, \"mode\": \"lines+markers\", \"y\": [42.324], \"x\": [1981.0], \"type\": \"scatter\"}], \"name\": \"1981.0\"}, {\"data\": [{\"name\": \"Afghanistan\", \"text\": \"Afghanistan\", \"marker\": {\"sizemode\": \"area\", \"sizeref\": 200000, \"size\": 10}, \"mode\": \"lines+markers\", \"y\": [50.388], \"x\": [1982.0], \"type\": \"scatter\"}, {\"name\": \"Albania\", \"text\": \"Albania\", \"marker\": {\"sizemode\": \"area\", \"sizeref\": 200000, \"size\": 10}, \"mode\": \"lines+markers\", \"y\": [26.541], \"x\": [1982.0], \"type\": \"scatter\"}, {\"name\": \"Algeria\", \"text\": \"Algeria\", \"marker\": {\"sizemode\": \"area\", \"sizeref\": 200000, \"size\": 10}, \"mode\": \"lines+markers\", \"y\": [41.364], \"x\": [1982.0], \"type\": \"scatter\"}], \"name\": \"1982.0\"}, {\"data\": [{\"name\": \"Afghanistan\", \"text\": \"Afghanistan\", \"marker\": {\"sizemode\": \"area\", \"sizeref\": 200000, \"size\": 10}, \"mode\": \"lines+markers\", \"y\": [50.277], \"x\": [1983.0], \"type\": \"scatter\"}, {\"name\": \"Albania\", \"text\": \"Albania\", \"marker\": {\"sizemode\": \"area\", \"sizeref\": 200000, \"size\": 10}, \"mode\": \"lines+markers\", \"y\": [26.44], \"x\": [1983.0], \"type\": \"scatter\"}, {\"name\": \"Algeria\", \"text\": \"Algeria\", \"marker\": {\"sizemode\": \"area\", \"sizeref\": 200000, \"size\": 10}, \"mode\": \"lines+markers\", \"y\": [40.345], \"x\": [1983.0], \"type\": \"scatter\"}], \"name\": \"1983.0\"}, {\"data\": [{\"name\": \"Afghanistan\", \"text\": \"Afghanistan\", \"marker\": {\"sizemode\": \"area\", \"sizeref\": 200000, \"size\": 10}, \"mode\": \"lines+markers\", \"y\": [50.157], \"x\": [1984.0], \"type\": \"scatter\"}, {\"name\": \"Albania\", \"text\": \"Albania\", \"marker\": {\"sizemode\": \"area\", \"sizeref\": 200000, \"size\": 10}, \"mode\": \"lines+markers\", \"y\": [26.363], \"x\": [1984.0], \"type\": \"scatter\"}, {\"name\": \"Algeria\", \"text\": \"Algeria\", \"marker\": {\"sizemode\": \"area\", \"sizeref\": 200000, \"size\": 10}, \"mode\": \"lines+markers\", \"y\": [39.277], \"x\": [1984.0], \"type\": \"scatter\"}], \"name\": \"1984.0\"}, {\"data\": [{\"name\": \"Afghanistan\", \"text\": \"Afghanistan\", \"marker\": {\"sizemode\": \"area\", \"sizeref\": 200000, \"size\": 10}, \"mode\": \"lines+markers\", \"y\": [50.022], \"x\": [1985.0], \"type\": \"scatter\"}, {\"name\": \"Albania\", \"text\": \"Albania\", \"marker\": {\"sizemode\": \"area\", \"sizeref\": 200000, \"size\": 10}, \"mode\": \"lines+markers\", \"y\": [26.278], \"x\": [1985.0], \"type\": \"scatter\"}, {\"name\": \"Algeria\", \"text\": \"Algeria\", \"marker\": {\"sizemode\": \"area\", \"sizeref\": 200000, \"size\": 10}, \"mode\": \"lines+markers\", \"y\": [38.17], \"x\": [1985.0], \"type\": \"scatter\"}], \"name\": \"1985.0\"}, {\"data\": [{\"name\": \"Afghanistan\", \"text\": \"Afghanistan\", \"marker\": {\"sizemode\": \"area\", \"sizeref\": 200000, \"size\": 10}, \"mode\": \"lines+markers\", \"y\": [49.863], \"x\": [1986.0], \"type\": \"scatter\"}, {\"name\": \"Albania\", \"text\": \"Albania\", \"marker\": {\"sizemode\": \"area\", \"sizeref\": 200000, \"size\": 10}, \"mode\": \"lines+markers\", \"y\": [26.152], \"x\": [1986.0], \"type\": \"scatter\"}, {\"name\": \"Algeria\", \"text\": \"Algeria\", \"marker\": {\"sizemode\": \"area\", \"sizeref\": 200000, \"size\": 10}, \"mode\": \"lines+markers\", \"y\": [37.03], \"x\": [1986.0], \"type\": \"scatter\"}, {\"name\": \"Andorra\", \"text\": \"Andorra\", \"marker\": {\"sizemode\": \"area\", \"sizeref\": 200000, \"size\": 10}, \"mode\": \"lines+markers\", \"y\": [11.9], \"x\": [1986.0], \"type\": \"scatter\"}], \"name\": \"1986.0\"}, {\"data\": [{\"name\": \"Afghanistan\", \"text\": \"Afghanistan\", \"marker\": {\"sizemode\": \"area\", \"sizeref\": 200000, \"size\": 10}, \"mode\": \"lines+markers\", \"y\": [49.679], \"x\": [1987.0], \"type\": \"scatter\"}, {\"name\": \"Albania\", \"text\": \"Albania\", \"marker\": {\"sizemode\": \"area\", \"sizeref\": 200000, \"size\": 10}, \"mode\": \"lines+markers\", \"y\": [25.959], \"x\": [1987.0], \"type\": \"scatter\"}, {\"name\": \"Algeria\", \"text\": \"Algeria\", \"marker\": {\"sizemode\": \"area\", \"sizeref\": 200000, \"size\": 10}, \"mode\": \"lines+markers\", \"y\": [35.857], \"x\": [1987.0], \"type\": \"scatter\"}, {\"name\": \"Andorra\", \"text\": \"Andorra\", \"marker\": {\"sizemode\": \"area\", \"sizeref\": 200000, \"size\": 10}, \"mode\": \"lines+markers\", \"y\": [11.0], \"x\": [1987.0], \"type\": \"scatter\"}], \"name\": \"1987.0\"}, {\"data\": [{\"name\": \"Afghanistan\", \"text\": \"Afghanistan\", \"marker\": {\"sizemode\": \"area\", \"sizeref\": 200000, \"size\": 10}, \"mode\": \"lines+markers\", \"y\": [49.478], \"x\": [1988.0], \"type\": \"scatter\"}, {\"name\": \"Albania\", \"text\": \"Albania\", \"marker\": {\"sizemode\": \"area\", \"sizeref\": 200000, \"size\": 10}, \"mode\": \"lines+markers\", \"y\": [25.677], \"x\": [1988.0], \"type\": \"scatter\"}, {\"name\": \"Algeria\", \"text\": \"Algeria\", \"marker\": {\"sizemode\": \"area\", \"sizeref\": 200000, \"size\": 10}, \"mode\": \"lines+markers\", \"y\": [34.651], \"x\": [1988.0], \"type\": \"scatter\"}, {\"name\": \"Andorra\", \"text\": \"Andorra\", \"marker\": {\"sizemode\": \"area\", \"sizeref\": 200000, \"size\": 10}, \"mode\": \"lines+markers\", \"y\": [11.6], \"x\": [1988.0], \"type\": \"scatter\"}], \"name\": \"1988.0\"}, {\"data\": [{\"name\": \"Afghanistan\", \"text\": \"Afghanistan\", \"marker\": {\"sizemode\": \"area\", \"sizeref\": 200000, \"size\": 10}, \"mode\": \"lines+markers\", \"y\": [49.269], \"x\": [1989.0], \"type\": \"scatter\"}, {\"name\": \"Albania\", \"text\": \"Albania\", \"marker\": {\"sizemode\": \"area\", \"sizeref\": 200000, \"size\": 10}, \"mode\": \"lines+markers\", \"y\": [25.29], \"x\": [1989.0], \"type\": \"scatter\"}, {\"name\": \"Algeria\", \"text\": \"Algeria\", \"marker\": {\"sizemode\": \"area\", \"sizeref\": 200000, \"size\": 10}, \"mode\": \"lines+markers\", \"y\": [33.415], \"x\": [1989.0], \"type\": \"scatter\"}, {\"name\": \"Andorra\", \"text\": \"Andorra\", \"marker\": {\"sizemode\": \"area\", \"sizeref\": 200000, \"size\": 10}, \"mode\": \"lines+markers\", \"y\": [12.5], \"x\": [1989.0], \"type\": \"scatter\"}], \"name\": \"1989.0\"}, {\"data\": [{\"name\": \"Afghanistan\", \"text\": \"Afghanistan\", \"marker\": {\"sizemode\": \"area\", \"sizeref\": 200000, \"size\": 10}, \"mode\": \"lines+markers\", \"y\": [49.08], \"x\": [1990.0], \"type\": \"scatter\"}, {\"name\": \"Albania\", \"text\": \"Albania\", \"marker\": {\"sizemode\": \"area\", \"sizeref\": 200000, \"size\": 10}, \"mode\": \"lines+markers\", \"y\": [24.789], \"x\": [1990.0], \"type\": \"scatter\"}, {\"name\": \"Algeria\", \"text\": \"Algeria\", \"marker\": {\"sizemode\": \"area\", \"sizeref\": 200000, \"size\": 10}, \"mode\": \"lines+markers\", \"y\": [32.132], \"x\": [1990.0], \"type\": \"scatter\"}, {\"name\": \"Andorra\", \"text\": \"Andorra\", \"marker\": {\"sizemode\": \"area\", \"sizeref\": 200000, \"size\": 10}, \"mode\": \"lines+markers\", \"y\": [11.9], \"x\": [1990.0], \"type\": \"scatter\"}], \"name\": \"1990.0\"}, {\"data\": [{\"name\": \"Afghanistan\", \"text\": \"Afghanistan\", \"marker\": {\"sizemode\": \"area\", \"sizeref\": 200000, \"size\": 10}, \"mode\": \"lines+markers\", \"y\": [48.945], \"x\": [1991.0], \"type\": \"scatter\"}, {\"name\": \"Albania\", \"text\": \"Albania\", \"marker\": {\"sizemode\": \"area\", \"sizeref\": 200000, \"size\": 10}, \"mode\": \"lines+markers\", \"y\": [24.171], \"x\": [1991.0], \"type\": \"scatter\"}, {\"name\": \"Algeria\", \"text\": \"Algeria\", \"marker\": {\"sizemode\": \"area\", \"sizeref\": 200000, \"size\": 10}, \"mode\": \"lines+markers\", \"y\": [30.777], \"x\": [1991.0], \"type\": \"scatter\"}, {\"name\": \"Andorra\", \"text\": \"Andorra\", \"marker\": {\"sizemode\": \"area\", \"sizeref\": 200000, \"size\": 10}, \"mode\": \"lines+markers\", \"y\": [11.9], \"x\": [1991.0], \"type\": \"scatter\"}], \"name\": \"1991.0\"}, {\"data\": [{\"name\": \"Afghanistan\", \"text\": \"Afghanistan\", \"marker\": {\"sizemode\": \"area\", \"sizeref\": 200000, \"size\": 10}, \"mode\": \"lines+markers\", \"y\": [48.879], \"x\": [1992.0], \"type\": \"scatter\"}, {\"name\": \"Albania\", \"text\": \"Albania\", \"marker\": {\"sizemode\": \"area\", \"sizeref\": 200000, \"size\": 10}, \"mode\": \"lines+markers\", \"y\": [23.46], \"x\": [1992.0], \"type\": \"scatter\"}, {\"name\": \"Algeria\", \"text\": \"Algeria\", \"marker\": {\"sizemode\": \"area\", \"sizeref\": 200000, \"size\": 10}, \"mode\": \"lines+markers\", \"y\": [29.35], \"x\": [1992.0], \"type\": \"scatter\"}, {\"name\": \"Andorra\", \"text\": \"Andorra\", \"marker\": {\"sizemode\": \"area\", \"sizeref\": 200000, \"size\": 10}, \"mode\": \"lines+markers\", \"y\": [12.1], \"x\": [1992.0], \"type\": \"scatter\"}], \"name\": \"1992.0\"}, {\"data\": [{\"name\": \"Afghanistan\", \"text\": \"Afghanistan\", \"marker\": {\"sizemode\": \"area\", \"sizeref\": 200000, \"size\": 10}, \"mode\": \"lines+markers\", \"y\": [48.882], \"x\": [1993.0], \"type\": \"scatter\"}, {\"name\": \"Albania\", \"text\": \"Albania\", \"marker\": {\"sizemode\": \"area\", \"sizeref\": 200000, \"size\": 10}, \"mode\": \"lines+markers\", \"y\": [22.68], \"x\": [1993.0], \"type\": \"scatter\"}, {\"name\": \"Algeria\", \"text\": \"Algeria\", \"marker\": {\"sizemode\": \"area\", \"sizeref\": 200000, \"size\": 10}, \"mode\": \"lines+markers\", \"y\": [27.87], \"x\": [1993.0], \"type\": \"scatter\"}, {\"name\": \"Andorra\", \"text\": \"Andorra\", \"marker\": {\"sizemode\": \"area\", \"sizeref\": 200000, \"size\": 10}, \"mode\": \"lines+markers\", \"y\": [11.4], \"x\": [1993.0], \"type\": \"scatter\"}], \"name\": \"1993.0\"}, {\"data\": [{\"name\": \"Afghanistan\", \"text\": \"Afghanistan\", \"marker\": {\"sizemode\": \"area\", \"sizeref\": 200000, \"size\": 10}, \"mode\": \"lines+markers\", \"y\": [48.937], \"x\": [1994.0], \"type\": \"scatter\"}, {\"name\": \"Albania\", \"text\": \"Albania\", \"marker\": {\"sizemode\": \"area\", \"sizeref\": 200000, \"size\": 10}, \"mode\": \"lines+markers\", \"y\": [21.845], \"x\": [1994.0], \"type\": \"scatter\"}, {\"name\": \"Algeria\", \"text\": \"Algeria\", \"marker\": {\"sizemode\": \"area\", \"sizeref\": 200000, \"size\": 10}, \"mode\": \"lines+markers\", \"y\": [26.371], \"x\": [1994.0], \"type\": \"scatter\"}, {\"name\": \"Andorra\", \"text\": \"Andorra\", \"marker\": {\"sizemode\": \"area\", \"sizeref\": 200000, \"size\": 10}, \"mode\": \"lines+markers\", \"y\": [10.9], \"x\": [1994.0], \"type\": \"scatter\"}], \"name\": \"1994.0\"}, {\"data\": [{\"name\": \"Afghanistan\", \"text\": \"Afghanistan\", \"marker\": {\"sizemode\": \"area\", \"sizeref\": 200000, \"size\": 10}, \"mode\": \"lines+markers\", \"y\": [49.014], \"x\": [1995.0], \"type\": \"scatter\"}, {\"name\": \"Albania\", \"text\": \"Albania\", \"marker\": {\"sizemode\": \"area\", \"sizeref\": 200000, \"size\": 10}, \"mode\": \"lines+markers\", \"y\": [20.97], \"x\": [1995.0], \"type\": \"scatter\"}, {\"name\": \"Algeria\", \"text\": \"Algeria\", \"marker\": {\"sizemode\": \"area\", \"sizeref\": 200000, \"size\": 10}, \"mode\": \"lines+markers\", \"y\": [24.895], \"x\": [1995.0], \"type\": \"scatter\"}, {\"name\": \"Andorra\", \"text\": \"Andorra\", \"marker\": {\"sizemode\": \"area\", \"sizeref\": 200000, \"size\": 10}, \"mode\": \"lines+markers\", \"y\": [11.0], \"x\": [1995.0], \"type\": \"scatter\"}], \"name\": \"1995.0\"}, {\"data\": [{\"name\": \"Afghanistan\", \"text\": \"Afghanistan\", \"marker\": {\"sizemode\": \"area\", \"sizeref\": 200000, \"size\": 10}, \"mode\": \"lines+markers\", \"y\": [49.072], \"x\": [1996.0], \"type\": \"scatter\"}, {\"name\": \"Albania\", \"text\": \"Albania\", \"marker\": {\"sizemode\": \"area\", \"sizeref\": 200000, \"size\": 10}, \"mode\": \"lines+markers\", \"y\": [20.064], \"x\": [1996.0], \"type\": \"scatter\"}, {\"name\": \"Algeria\", \"text\": \"Algeria\", \"marker\": {\"sizemode\": \"area\", \"sizeref\": 200000, \"size\": 10}, \"mode\": \"lines+markers\", \"y\": [23.488], \"x\": [1996.0], \"type\": \"scatter\"}, {\"name\": \"Andorra\", \"text\": \"Andorra\", \"marker\": {\"sizemode\": \"area\", \"sizeref\": 200000, \"size\": 10}, \"mode\": \"lines+markers\", \"y\": [10.9], \"x\": [1996.0], \"type\": \"scatter\"}], \"name\": \"1996.0\"}, {\"data\": [{\"name\": \"Afghanistan\", \"text\": \"Afghanistan\", \"marker\": {\"sizemode\": \"area\", \"sizeref\": 200000, \"size\": 10}, \"mode\": \"lines+markers\", \"y\": [49.067], \"x\": [1997.0], \"type\": \"scatter\"}, {\"name\": \"Albania\", \"text\": \"Albania\", \"marker\": {\"sizemode\": \"area\", \"sizeref\": 200000, \"size\": 10}, \"mode\": \"lines+markers\", \"y\": [19.139], \"x\": [1997.0], \"type\": \"scatter\"}, {\"name\": \"Algeria\", \"text\": \"Algeria\", \"marker\": {\"sizemode\": \"area\", \"sizeref\": 200000, \"size\": 10}, \"mode\": \"lines+markers\", \"y\": [22.202], \"x\": [1997.0], \"type\": \"scatter\"}, {\"name\": \"Andorra\", \"text\": \"Andorra\", \"marker\": {\"sizemode\": \"area\", \"sizeref\": 200000, \"size\": 10}, \"mode\": \"lines+markers\", \"y\": [11.2], \"x\": [1997.0], \"type\": \"scatter\"}], \"name\": \"1997.0\"}, {\"data\": [{\"name\": \"Afghanistan\", \"text\": \"Afghanistan\", \"marker\": {\"sizemode\": \"area\", \"sizeref\": 200000, \"size\": 10}, \"mode\": \"lines+markers\", \"y\": [48.96], \"x\": [1998.0], \"type\": \"scatter\"}, {\"name\": \"Albania\", \"text\": \"Albania\", \"marker\": {\"sizemode\": \"area\", \"sizeref\": 200000, \"size\": 10}, \"mode\": \"lines+markers\", \"y\": [18.212], \"x\": [1998.0], \"type\": \"scatter\"}, {\"name\": \"Algeria\", \"text\": \"Algeria\", \"marker\": {\"sizemode\": \"area\", \"sizeref\": 200000, \"size\": 10}, \"mode\": \"lines+markers\", \"y\": [21.089], \"x\": [1998.0], \"type\": \"scatter\"}, {\"name\": \"Andorra\", \"text\": \"Andorra\", \"marker\": {\"sizemode\": \"area\", \"sizeref\": 200000, \"size\": 10}, \"mode\": \"lines+markers\", \"y\": [11.9], \"x\": [1998.0], \"type\": \"scatter\"}], \"name\": \"1998.0\"}, {\"data\": [{\"name\": \"Afghanistan\", \"text\": \"Afghanistan\", \"marker\": {\"sizemode\": \"area\", \"sizeref\": 200000, \"size\": 10}, \"mode\": \"lines+markers\", \"y\": [48.728], \"x\": [1999.0], \"type\": \"scatter\"}, {\"name\": \"Albania\", \"text\": \"Albania\", \"marker\": {\"sizemode\": \"area\", \"sizeref\": 200000, \"size\": 10}, \"mode\": \"lines+markers\", \"y\": [17.303], \"x\": [1999.0], \"type\": \"scatter\"}, {\"name\": \"Algeria\", \"text\": \"Algeria\", \"marker\": {\"sizemode\": \"area\", \"sizeref\": 200000, \"size\": 10}, \"mode\": \"lines+markers\", \"y\": [20.192], \"x\": [1999.0], \"type\": \"scatter\"}, {\"name\": \"Andorra\", \"text\": \"Andorra\", \"marker\": {\"sizemode\": \"area\", \"sizeref\": 200000, \"size\": 10}, \"mode\": \"lines+markers\", \"y\": [12.6], \"x\": [1999.0], \"type\": \"scatter\"}], \"name\": \"1999.0\"}, {\"data\": [{\"name\": \"Afghanistan\", \"text\": \"Afghanistan\", \"marker\": {\"sizemode\": \"area\", \"sizeref\": 200000, \"size\": 10}, \"mode\": \"lines+markers\", \"y\": [48.36], \"x\": [2000.0], \"type\": \"scatter\"}, {\"name\": \"Albania\", \"text\": \"Albania\", \"marker\": {\"sizemode\": \"area\", \"sizeref\": 200000, \"size\": 10}, \"mode\": \"lines+markers\", \"y\": [16.427], \"x\": [2000.0], \"type\": \"scatter\"}, {\"name\": \"Algeria\", \"text\": \"Algeria\", \"marker\": {\"sizemode\": \"area\", \"sizeref\": 200000, \"size\": 10}, \"mode\": \"lines+markers\", \"y\": [19.573], \"x\": [2000.0], \"type\": \"scatter\"}, {\"name\": \"Andorra\", \"text\": \"Andorra\", \"marker\": {\"sizemode\": \"area\", \"sizeref\": 200000, \"size\": 10}, \"mode\": \"lines+markers\", \"y\": [11.3], \"x\": [2000.0], \"type\": \"scatter\"}], \"name\": \"2000.0\"}, {\"data\": [{\"name\": \"Afghanistan\", \"text\": \"Afghanistan\", \"marker\": {\"sizemode\": \"area\", \"sizeref\": 200000, \"size\": 10}, \"mode\": \"lines+markers\", \"y\": [47.86], \"x\": [2001.0], \"type\": \"scatter\"}, {\"name\": \"Albania\", \"text\": \"Albania\", \"marker\": {\"sizemode\": \"area\", \"sizeref\": 200000, \"size\": 10}, \"mode\": \"lines+markers\", \"y\": [15.594], \"x\": [2001.0], \"type\": \"scatter\"}, {\"name\": \"Algeria\", \"text\": \"Algeria\", \"marker\": {\"sizemode\": \"area\", \"sizeref\": 200000, \"size\": 10}, \"mode\": \"lines+markers\", \"y\": [19.277], \"x\": [2001.0], \"type\": \"scatter\"}, {\"name\": \"Andorra\", \"text\": \"Andorra\", \"marker\": {\"sizemode\": \"area\", \"sizeref\": 200000, \"size\": 10}, \"mode\": \"lines+markers\", \"y\": [11.8], \"x\": [2001.0], \"type\": \"scatter\"}], \"name\": \"2001.0\"}, {\"data\": [{\"name\": \"Afghanistan\", \"text\": \"Afghanistan\", \"marker\": {\"sizemode\": \"area\", \"sizeref\": 200000, \"size\": 10}, \"mode\": \"lines+markers\", \"y\": [47.252], \"x\": [2002.0], \"type\": \"scatter\"}, {\"name\": \"Albania\", \"text\": \"Albania\", \"marker\": {\"sizemode\": \"area\", \"sizeref\": 200000, \"size\": 10}, \"mode\": \"lines+markers\", \"y\": [14.809], \"x\": [2002.0], \"type\": \"scatter\"}, {\"name\": \"Algeria\", \"text\": \"Algeria\", \"marker\": {\"sizemode\": \"area\", \"sizeref\": 200000, \"size\": 10}, \"mode\": \"lines+markers\", \"y\": [19.291], \"x\": [2002.0], \"type\": \"scatter\"}, {\"name\": \"Andorra\", \"text\": \"Andorra\", \"marker\": {\"sizemode\": \"area\", \"sizeref\": 200000, \"size\": 10}, \"mode\": \"lines+markers\", \"y\": [11.2], \"x\": [2002.0], \"type\": \"scatter\"}], \"name\": \"2002.0\"}, {\"data\": [{\"name\": \"Afghanistan\", \"text\": \"Afghanistan\", \"marker\": {\"sizemode\": \"area\", \"sizeref\": 200000, \"size\": 10}, \"mode\": \"lines+markers\", \"y\": [46.556], \"x\": [2003.0], \"type\": \"scatter\"}, {\"name\": \"Albania\", \"text\": \"Albania\", \"marker\": {\"sizemode\": \"area\", \"sizeref\": 200000, \"size\": 10}, \"mode\": \"lines+markers\", \"y\": [14.082], \"x\": [2003.0], \"type\": \"scatter\"}, {\"name\": \"Algeria\", \"text\": \"Algeria\", \"marker\": {\"sizemode\": \"area\", \"sizeref\": 200000, \"size\": 10}, \"mode\": \"lines+markers\", \"y\": [19.58], \"x\": [2003.0], \"type\": \"scatter\"}, {\"name\": \"Andorra\", \"text\": \"Andorra\", \"marker\": {\"sizemode\": \"area\", \"sizeref\": 200000, \"size\": 10}, \"mode\": \"lines+markers\", \"y\": [10.3], \"x\": [2003.0], \"type\": \"scatter\"}], \"name\": \"2003.0\"}, {\"data\": [{\"name\": \"Afghanistan\", \"text\": \"Afghanistan\", \"marker\": {\"sizemode\": \"area\", \"sizeref\": 200000, \"size\": 10}, \"mode\": \"lines+markers\", \"y\": [45.778], \"x\": [2004.0], \"type\": \"scatter\"}, {\"name\": \"Albania\", \"text\": \"Albania\", \"marker\": {\"sizemode\": \"area\", \"sizeref\": 200000, \"size\": 10}, \"mode\": \"lines+markers\", \"y\": [13.43], \"x\": [2004.0], \"type\": \"scatter\"}, {\"name\": \"Algeria\", \"text\": \"Algeria\", \"marker\": {\"sizemode\": \"area\", \"sizeref\": 200000, \"size\": 10}, \"mode\": \"lines+markers\", \"y\": [20.102], \"x\": [2004.0], \"type\": \"scatter\"}, {\"name\": \"Andorra\", \"text\": \"Andorra\", \"marker\": {\"sizemode\": \"area\", \"sizeref\": 200000, \"size\": 10}, \"mode\": \"lines+markers\", \"y\": [10.9], \"x\": [2004.0], \"type\": \"scatter\"}], \"name\": \"2004.0\"}, {\"data\": [{\"name\": \"Afghanistan\", \"text\": \"Afghanistan\", \"marker\": {\"sizemode\": \"area\", \"sizeref\": 200000, \"size\": 10}, \"mode\": \"lines+markers\", \"y\": [44.91], \"x\": [2005.0], \"type\": \"scatter\"}, {\"name\": \"Albania\", \"text\": \"Albania\", \"marker\": {\"sizemode\": \"area\", \"sizeref\": 200000, \"size\": 10}, \"mode\": \"lines+markers\", \"y\": [12.875], \"x\": [2005.0], \"type\": \"scatter\"}, {\"name\": \"Algeria\", \"text\": \"Algeria\", \"marker\": {\"sizemode\": \"area\", \"sizeref\": 200000, \"size\": 10}, \"mode\": \"lines+markers\", \"y\": [20.812], \"x\": [2005.0], \"type\": \"scatter\"}, {\"name\": \"Andorra\", \"text\": \"Andorra\", \"marker\": {\"sizemode\": \"area\", \"sizeref\": 200000, \"size\": 10}, \"mode\": \"lines+markers\", \"y\": [10.7], \"x\": [2005.0], \"type\": \"scatter\"}], \"name\": \"2005.0\"}, {\"data\": [{\"name\": \"Afghanistan\", \"text\": \"Afghanistan\", \"marker\": {\"sizemode\": \"area\", \"sizeref\": 200000, \"size\": 10}, \"mode\": \"lines+markers\", \"y\": [43.937], \"x\": [2006.0], \"type\": \"scatter\"}, {\"name\": \"Albania\", \"text\": \"Albania\", \"marker\": {\"sizemode\": \"area\", \"sizeref\": 200000, \"size\": 10}, \"mode\": \"lines+markers\", \"y\": [12.441], \"x\": [2006.0], \"type\": \"scatter\"}, {\"name\": \"Algeria\", \"text\": \"Algeria\", \"marker\": {\"sizemode\": \"area\", \"sizeref\": 200000, \"size\": 10}, \"mode\": \"lines+markers\", \"y\": [21.655], \"x\": [2006.0], \"type\": \"scatter\"}, {\"name\": \"Andorra\", \"text\": \"Andorra\", \"marker\": {\"sizemode\": \"area\", \"sizeref\": 200000, \"size\": 10}, \"mode\": \"lines+markers\", \"y\": [10.6], \"x\": [2006.0], \"type\": \"scatter\"}], \"name\": \"2006.0\"}, {\"data\": [{\"name\": \"Afghanistan\", \"text\": \"Afghanistan\", \"marker\": {\"sizemode\": \"area\", \"sizeref\": 200000, \"size\": 10}, \"mode\": \"lines+markers\", \"y\": [42.86], \"x\": [2007.0], \"type\": \"scatter\"}, {\"name\": \"Albania\", \"text\": \"Albania\", \"marker\": {\"sizemode\": \"area\", \"sizeref\": 200000, \"size\": 10}, \"mode\": \"lines+markers\", \"y\": [12.129], \"x\": [2007.0], \"type\": \"scatter\"}, {\"name\": \"Algeria\", \"text\": \"Algeria\", \"marker\": {\"sizemode\": \"area\", \"sizeref\": 200000, \"size\": 10}, \"mode\": \"lines+markers\", \"y\": [22.555], \"x\": [2007.0], \"type\": \"scatter\"}, {\"name\": \"Andorra\", \"text\": \"Andorra\", \"marker\": {\"sizemode\": \"area\", \"sizeref\": 200000, \"size\": 10}, \"mode\": \"lines+markers\", \"y\": [10.1], \"x\": [2007.0], \"type\": \"scatter\"}], \"name\": \"2007.0\"}, {\"data\": [{\"name\": \"Afghanistan\", \"text\": \"Afghanistan\", \"marker\": {\"sizemode\": \"area\", \"sizeref\": 200000, \"size\": 10}, \"mode\": \"lines+markers\", \"y\": [41.697], \"x\": [2008.0], \"type\": \"scatter\"}, {\"name\": \"Albania\", \"text\": \"Albania\", \"marker\": {\"sizemode\": \"area\", \"sizeref\": 200000, \"size\": 10}, \"mode\": \"lines+markers\", \"y\": [11.933], \"x\": [2008.0], \"type\": \"scatter\"}, {\"name\": \"Algeria\", \"text\": \"Algeria\", \"marker\": {\"sizemode\": \"area\", \"sizeref\": 200000, \"size\": 10}, \"mode\": \"lines+markers\", \"y\": [23.425], \"x\": [2008.0], \"type\": \"scatter\"}, {\"name\": \"Andorra\", \"text\": \"Andorra\", \"marker\": {\"sizemode\": \"area\", \"sizeref\": 200000, \"size\": 10}, \"mode\": \"lines+markers\", \"y\": [10.4], \"x\": [2008.0], \"type\": \"scatter\"}], \"name\": \"2008.0\"}, {\"data\": [{\"name\": \"Afghanistan\", \"text\": \"Afghanistan\", \"marker\": {\"sizemode\": \"area\", \"sizeref\": 200000, \"size\": 10}, \"mode\": \"lines+markers\", \"y\": [40.474], \"x\": [2009.0], \"type\": \"scatter\"}, {\"name\": \"Albania\", \"text\": \"Albania\", \"marker\": {\"sizemode\": \"area\", \"sizeref\": 200000, \"size\": 10}, \"mode\": \"lines+markers\", \"y\": [11.837], \"x\": [2009.0], \"type\": \"scatter\"}, {\"name\": \"Algeria\", \"text\": \"Algeria\", \"marker\": {\"sizemode\": \"area\", \"sizeref\": 200000, \"size\": 10}, \"mode\": \"lines+markers\", \"y\": [24.189], \"x\": [2009.0], \"type\": \"scatter\"}, {\"name\": \"Andorra\", \"text\": \"Andorra\", \"marker\": {\"sizemode\": \"area\", \"sizeref\": 200000, \"size\": 10}, \"mode\": \"lines+markers\", \"y\": [9.9], \"x\": [2009.0], \"type\": \"scatter\"}], \"name\": \"2009.0\"}, {\"data\": [{\"name\": \"Afghanistan\", \"text\": \"Afghanistan\", \"marker\": {\"sizemode\": \"area\", \"sizeref\": 200000, \"size\": 10}, \"mode\": \"lines+markers\", \"y\": [39.232], \"x\": [2010.0], \"type\": \"scatter\"}, {\"name\": \"Albania\", \"text\": \"Albania\", \"marker\": {\"sizemode\": \"area\", \"sizeref\": 200000, \"size\": 10}, \"mode\": \"lines+markers\", \"y\": [11.819], \"x\": [2010.0], \"type\": \"scatter\"}, {\"name\": \"Algeria\", \"text\": \"Algeria\", \"marker\": {\"sizemode\": \"area\", \"sizeref\": 200000, \"size\": 10}, \"mode\": \"lines+markers\", \"y\": [24.762], \"x\": [2010.0], \"type\": \"scatter\"}, {\"name\": \"Andorra\", \"text\": \"Andorra\", \"marker\": {\"sizemode\": \"area\", \"sizeref\": 200000, \"size\": 10}, \"mode\": \"lines+markers\", \"y\": [9.8], \"x\": [2010.0], \"type\": \"scatter\"}], \"name\": \"2010.0\"}, {\"data\": [{\"name\": \"Afghanistan\", \"text\": \"Afghanistan\", \"marker\": {\"sizemode\": \"area\", \"sizeref\": 200000, \"size\": 10}, \"mode\": \"lines+markers\", \"y\": [38.016], \"x\": [2011.0], \"type\": \"scatter\"}, {\"name\": \"Albania\", \"text\": \"Albania\", \"marker\": {\"sizemode\": \"area\", \"sizeref\": 200000, \"size\": 10}, \"mode\": \"lines+markers\", \"y\": [11.846], \"x\": [2011.0], \"type\": \"scatter\"}, {\"name\": \"Algeria\", \"text\": \"Algeria\", \"marker\": {\"sizemode\": \"area\", \"sizeref\": 200000, \"size\": 10}, \"mode\": \"lines+markers\", \"y\": [25.078], \"x\": [2011.0], \"type\": \"scatter\"}], \"name\": \"2011.0\"}, {\"data\": [{\"name\": \"Afghanistan\", \"text\": \"Afghanistan\", \"marker\": {\"sizemode\": \"area\", \"sizeref\": 200000, \"size\": 10}, \"mode\": \"lines+markers\", \"y\": [36.863], \"x\": [2012.0], \"type\": \"scatter\"}, {\"name\": \"Albania\", \"text\": \"Albania\", \"marker\": {\"sizemode\": \"area\", \"sizeref\": 200000, \"size\": 10}, \"mode\": \"lines+markers\", \"y\": [11.888], \"x\": [2012.0], \"type\": \"scatter\"}, {\"name\": \"Algeria\", \"text\": \"Algeria\", \"marker\": {\"sizemode\": \"area\", \"sizeref\": 200000, \"size\": 10}, \"mode\": \"lines+markers\", \"y\": [25.134], \"x\": [2012.0], \"type\": \"scatter\"}, {\"name\": \"Andorra\", \"text\": \"Andorra\", \"marker\": {\"sizemode\": \"area\", \"sizeref\": 200000, \"size\": 10}, \"mode\": \"lines+markers\", \"y\": [9.5], \"x\": [2012.0], \"type\": \"scatter\"}], \"name\": \"2012.0\"}, {\"data\": [{\"name\": \"Afghanistan\", \"text\": \"Afghanistan\", \"marker\": {\"sizemode\": \"area\", \"sizeref\": 200000, \"size\": 10}, \"mode\": \"lines+markers\", \"y\": [35.797], \"x\": [2013.0], \"type\": \"scatter\"}, {\"name\": \"Albania\", \"text\": \"Albania\", \"marker\": {\"sizemode\": \"area\", \"sizeref\": 200000, \"size\": 10}, \"mode\": \"lines+markers\", \"y\": [11.916], \"x\": [2013.0], \"type\": \"scatter\"}, {\"name\": \"Algeria\", \"text\": \"Algeria\", \"marker\": {\"sizemode\": \"area\", \"sizeref\": 200000, \"size\": 10}, \"mode\": \"lines+markers\", \"y\": [24.945], \"x\": [2013.0], \"type\": \"scatter\"}], \"name\": \"2013.0\"}, {\"data\": [{\"name\": \"Afghanistan\", \"text\": \"Afghanistan\", \"marker\": {\"sizemode\": \"area\", \"sizeref\": 200000, \"size\": 10}, \"mode\": \"lines+markers\", \"y\": [34.836], \"x\": [2014.0], \"type\": \"scatter\"}, {\"name\": \"Albania\", \"text\": \"Albania\", \"marker\": {\"sizemode\": \"area\", \"sizeref\": 200000, \"size\": 10}, \"mode\": \"lines+markers\", \"y\": [11.914], \"x\": [2014.0], \"type\": \"scatter\"}, {\"name\": \"Algeria\", \"text\": \"Algeria\", \"marker\": {\"sizemode\": \"area\", \"sizeref\": 200000, \"size\": 10}, \"mode\": \"lines+markers\", \"y\": [24.522], \"x\": [2014.0], \"type\": \"scatter\"}], \"name\": \"2014.0\"}, {\"data\": [{\"name\": \"Afghanistan\", \"text\": \"Afghanistan\", \"marker\": {\"sizemode\": \"area\", \"sizeref\": 200000, \"size\": 10}, \"mode\": \"lines+markers\", \"y\": [33.98], \"x\": [2015.0], \"type\": \"scatter\"}, {\"name\": \"Albania\", \"text\": \"Albania\", \"marker\": {\"sizemode\": \"area\", \"sizeref\": 200000, \"size\": 10}, \"mode\": \"lines+markers\", \"y\": [11.879], \"x\": [2015.0], \"type\": \"scatter\"}, {\"name\": \"Algeria\", \"text\": \"Algeria\", \"marker\": {\"sizemode\": \"area\", \"sizeref\": 200000, \"size\": 10}, \"mode\": \"lines+markers\", \"y\": [23.9], \"x\": [2015.0], \"type\": \"scatter\"}], \"name\": \"2015.0\"}]);\n",
       "                        }).then(function(){\n",
       "                            Plotly.animate('c42a400b-f538-4ceb-a1b8-6ac7ffc3d038', null);\n",
       "                        }).then(function(){\n",
       "                            \n",
       "var gd = document.getElementById('c42a400b-f538-4ceb-a1b8-6ac7ffc3d038');\n",
       "var x = new MutationObserver(function (mutations, observer) {{\n",
       "        var display = window.getComputedStyle(gd).display;\n",
       "        if (!display || display === 'none') {{\n",
       "            console.log([gd, 'removed!']);\n",
       "            Plotly.purge(gd);\n",
       "            observer.disconnect();\n",
       "        }}\n",
       "}});\n",
       "\n",
       "// Listen for the removal of the full notebook cells\n",
       "var notebookContainer = gd.closest('#notebook-container');\n",
       "if (notebookContainer) {{\n",
       "    x.observe(notebookContainer, {childList: true});\n",
       "}}\n",
       "\n",
       "// Listen for the clearing of the current output cell\n",
       "var outputEl = gd.closest('.output');\n",
       "if (outputEl) {{\n",
       "    x.observe(outputEl, {childList: true});\n",
       "}}\n",
       "\n",
       "                        })\n",
       "                };\n",
       "                });\n",
       "            </script>\n",
       "        </div>"
      ]
     },
     "metadata": {},
     "output_type": "display_data"
    }
   ],
   "source": [
    "#Creates the plot\n",
    "iplot(figure, 'BirthRateGraph')\n",
    "# py.icreate_animations(figure, filename= 'gapminder_example'+str(time.time()))"
   ]
  }
 ],
 "metadata": {
  "kernelspec": {
   "display_name": "Python 2",
   "language": "python",
   "name": "python2"
  },
  "language_info": {
   "codemirror_mode": {
    "name": "ipython",
    "version": 2
   },
   "file_extension": ".py",
   "mimetype": "text/x-python",
   "name": "python",
   "nbconvert_exporter": "python",
   "pygments_lexer": "ipython2",
   "version": "2.7.16"
  }
 },
 "nbformat": 4,
 "nbformat_minor": 2
}
