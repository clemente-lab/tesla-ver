{
 "cells": [
  {
   "cell_type": "code",
   "execution_count": null,
   "metadata": {
    "scrolled": false
   },
   "outputs": [],
   "source": [
    "import numpy as np\n",
    "import pandas as pd\n",
    "import matplotlib\n",
    "# matplotlib.use('Qt5Agg')\n",
    "import matplotlib.pyplot as plt\n",
    "import matplotlib.animation as animation\n",
    "from teslaver import utilities as utls\n",
    "from loclust import parse\n",
    "from IPython.display import HTML\n",
    "\n",
    "# %matplotlib notebook\n",
    "df = utls.trajectories_to_dataframe(trajs=parse.read_trajectories('./data/CO2_trajs.csv'))\n",
    "groo_X = df.groupby('X')\n",
    "groo_DET = df.groupby('country_name')\n",
    "\n",
    "ylim = (min(df['Y']),max(df['Y']))\n",
    "xlim = (min(groo_X.groups.keys()), (max(groo_X.groups.keys()) + 1))\n",
    "\n",
    "fig = plt.figure()\n",
    "ax = plt.axes(xlim=xlim, ylim=ylim)\n",
    "\n",
    "num_lines = len(groo_DET.groups.keys())\n",
    "    \n",
    "lines = [plt.plot([], [])[0] for _ in range(num_lines)] #lines to animate\n",
    "storage = lines\n",
    "\n",
    "def init():\n",
    "    for line in lines:\n",
    "        line.set_data([], [])\n",
    "    \n",
    "    return storage\n",
    "\n",
    "def animate(i):\n",
    "    for j, line in enumerate(lines):\n",
    "        country = groo_DET.groups.keys()[j]\n",
    "        line.set_data(groo_DET.get_group(country)['X'][0:i+1],\n",
    "                      groo_DET.get_group(country)['Y'][0:i+1])\n",
    "    return storage\n",
    "# Writer = animation.writers['ffmpeg']\n",
    "# writer = Writer(fps=20, metadata=dict(artist='Me'), bitrate=1800)\n",
    "\n",
    "anim = animation.FuncAnimation(fig, animate, init_func = init,\n",
    "                              frames=1000, interval=20, blit=True, repeat=True)\n",
    "\n",
    "# anim.save('yay2.mp4', writer=writer)\n",
    "# plt.show()\n",
    "HTML(anim.to_jshtml())"
   ]
  },
  {
   "cell_type": "code",
   "execution_count": null,
   "metadata": {},
   "outputs": [],
   "source": []
  }
 ],
 "metadata": {
  "kernelspec": {
   "display_name": "Python 2",
   "language": "python",
   "name": "python2"
  },
  "language_info": {
   "codemirror_mode": {
    "name": "ipython",
    "version": 2
   },
   "file_extension": ".py",
   "mimetype": "text/x-python",
   "name": "python",
   "nbconvert_exporter": "python",
   "pygments_lexer": "ipython2",
   "version": "2.7.16"
  }
 },
 "nbformat": 4,
 "nbformat_minor": 2
}
