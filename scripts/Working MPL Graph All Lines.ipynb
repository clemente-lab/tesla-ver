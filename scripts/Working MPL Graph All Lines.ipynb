{
 "cells": [
  {
   "cell_type": "code",
   "execution_count": 2,
   "metadata": {},
   "outputs": [
    {
     "ename": "NameError",
     "evalue": "name 'line1' is not defined",
     "output_type": "error",
     "traceback": [
      "\u001b[0;31m---------------------------------------------------------------------------\u001b[0m",
      "\u001b[0;31mNameError\u001b[0m                                 Traceback (most recent call last)",
      "\u001b[0;32m<ipython-input-2-b8311fa72474>\u001b[0m in \u001b[0;36m<module>\u001b[0;34m()\u001b[0m\n\u001b[1;32m     23\u001b[0m     \u001b[0;32mreturn\u001b[0m \u001b[0mlines\u001b[0m\u001b[0;34m\u001b[0m\u001b[0m\n\u001b[1;32m     24\u001b[0m \u001b[0;34m\u001b[0m\u001b[0m\n\u001b[0;32m---> 25\u001b[0;31m ani = animation.FuncAnimation(fig, update, len(x), fargs=[x, z, line1, line2],\n\u001b[0m\u001b[1;32m     26\u001b[0m                   interval=50, blit=True)\n\u001b[1;32m     27\u001b[0m \u001b[0;34m\u001b[0m\u001b[0m\n",
      "\u001b[0;31mNameError\u001b[0m: name 'line1' is not defined"
     ]
    }
   ],
   "source": [
    "import numpy as np\n",
    "import matplotlib.pyplot as plt\n",
    "import matplotlib.animation as animation\n",
    "import random as rand\n",
    "\n",
    "matplotlib.use('Qt5Agg') #use Qt5 as backend, comment this line for default backend\n",
    "Writer = animation.writers['ffmpeg']\n",
    "writer = Writer(fps=20, metadata=dict(artist='Me'), bitrate=1800)\n",
    "x = np.arange(130, 190, 1)\n",
    "y = 97.928 * np.exp(- np.exp(-  0.1416 *( x - 146.1 )))\n",
    "z = 96.9684 * np.exp(- np.exp(-0.1530*( x - 144.4)))\n",
    "\n",
    "fig, ax = plt.subplots()\n",
    "plotcols = ['green', 'red']\n",
    "lines = [ax.plot([],[], lw=2, color = plotcols[index])[0] for index in range(1)]\n",
    "\n",
    "def update(num, x, z, line1, line2):\n",
    "    y = rand.randint(0,98)\n",
    "    for line in lines:\n",
    "        line.set_data(x[num], y[num])\n",
    "#     line1.set_data(x[:num], y[:num])\n",
    "#     line2.set_data(x[:num], z[:num])\n",
    "    return lines\n",
    "\n",
    "ani = animation.FuncAnimation(fig, update, len(x), fargs=[x, z, line1, line2],\n",
    "                  interval=50, blit=True)\n",
    "\n",
    "ax.set_xlabel('Age (day)')\n",
    "ax.set_ylabel('EO (%)')\n",
    "plt.show()\n",
    "# ani.save('pleasesendhelp.mp4', writer=writer)"
   ]
  },
  {
   "cell_type": "code",
   "execution_count": 1,
   "metadata": {},
   "outputs": [],
   "source": [
    "import matplotlib\n",
    "matplotlib.use('Qt5Agg') #use Qt5 as backend, comment this line for default backend\n",
    "\n",
    "from matplotlib import pyplot as plt\n",
    "from matplotlib import animation\n",
    "\n",
    "fig = plt.figure()\n",
    "\n",
    "ax = plt.axes(xlim=(0, 2), ylim=(0, 100))\n",
    "\n",
    "N = 4\n",
    "lines = [plt.plot([], [])[0] for _ in range(N)] #lines to animate\n",
    "\n",
    "rectangles = plt.bar([0.5,1,1.5],[50,40,90],width=0.1) #rectangles to animate\n",
    "\n",
    "patches = lines + list(rectangles) #things to animate\n",
    "\n",
    "def init():\n",
    "    #init lines\n",
    "    for line in lines:\n",
    "        line.set_data([], [])\n",
    "\n",
    "    #init rectangles\n",
    "    for rectangle in rectangles:\n",
    "        rectangle.set_height(0)\n",
    "\n",
    "    return patches #return everything that must be updated\n",
    "\n",
    "def animate(i):\n",
    "    #animate lines\n",
    "    for j,line in enumerate(lines):\n",
    "        line.set_data([0, 2], [10 * j,i])\n",
    "\n",
    "    #animate rectangles\n",
    "    for j,rectangle in enumerate(rectangles):\n",
    "        rectangle.set_height(i/(j+1))\n",
    "\n",
    "    return patches #return everything that must be updated\n",
    "\n",
    "anim = animation.FuncAnimation(fig, animate, init_func=init,\n",
    "                               frames=100, interval=20, blit=True)\n",
    "\n",
    "plt.show()"
   ]
  },
  {
   "cell_type": "code",
   "execution_count": null,
   "metadata": {},
   "outputs": [],
   "source": []
  }
 ],
 "metadata": {
  "kernelspec": {
   "display_name": "Python 2",
   "language": "python",
   "name": "python2"
  },
  "language_info": {
   "codemirror_mode": {
    "name": "ipython",
    "version": 2
   },
   "file_extension": ".py",
   "mimetype": "text/x-python",
   "name": "python",
   "nbconvert_exporter": "python",
   "pygments_lexer": "ipython2",
   "version": "2.7.16"
  }
 },
 "nbformat": 4,
 "nbformat_minor": 2
}
